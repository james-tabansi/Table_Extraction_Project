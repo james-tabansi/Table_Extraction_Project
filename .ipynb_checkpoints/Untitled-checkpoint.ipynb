{
 "cells": [
  {
   "cell_type": "markdown",
   "id": "e2a93a6f",
   "metadata": {},
   "source": [
    "## PyPDF2"
   ]
  },
  {
   "cell_type": "code",
   "execution_count": 11,
   "id": "d04b3fc6",
   "metadata": {},
   "outputs": [
    {
     "name": "stdout",
     "output_type": "stream",
     "text": [
      "Collecting PyPDF2\n",
      "  Using cached pypdf2-3.0.1-py3-none-any.whl (232 kB)\n",
      "Requirement already satisfied: typing_extensions>=3.10.0.0 in /opt/anaconda3/envs/table_extra/lib/python3.8/site-packages (from PyPDF2) (4.7.1)\n",
      "Installing collected packages: PyPDF2\n",
      "Successfully installed PyPDF2-3.0.1\n"
     ]
    }
   ],
   "source": [
    "!pip install PyPDF2"
   ]
  },
  {
   "cell_type": "code",
   "execution_count": 12,
   "id": "3c234744",
   "metadata": {},
   "outputs": [],
   "source": [
    "from PyPDF2 import PdfReader"
   ]
  },
  {
   "cell_type": "code",
   "execution_count": 13,
   "id": "241e35be",
   "metadata": {},
   "outputs": [],
   "source": [
    "\n",
    "# with open(path, 'r') as file:\n",
    "#     for line in file:\n",
    "#         print(line)\n",
    "\n",
    "pdf = PdfReader(path)"
   ]
  },
  {
   "cell_type": "code",
   "execution_count": null,
   "id": "5fc3afbb",
   "metadata": {},
   "outputs": [],
   "source": [
    "page = pdf_reader.getPage(page_num)\n",
    "if '/XObject' in page['/Resources']:\n",
    "    x_object = page['/Resources']['/XObject'].getObject()\n",
    "    for obj in x_object:\n",
    "        if x_object[obj]['/Subtype'] == '/Image':\n",
    "            img = x_object[obj]\n",
    "            img_data = img._data\n",
    "            image = Image.open(BytesIO(img_data))\n",
    "            image.show()"
   ]
  },
  {
   "cell_type": "code",
   "execution_count": 14,
   "id": "49671a55",
   "metadata": {},
   "outputs": [],
   "source": [
    "from PIL import Image\n",
    "from io import BytesIO"
   ]
  },
  {
   "cell_type": "code",
   "execution_count": null,
   "id": "9a739395",
   "metadata": {},
   "outputs": [],
   "source": [
    "#iterate through the number of pages\n",
    "for pages in range(len(pdf.pages)):\n",
    "    pg = pdf.pages[pages]\n",
    "    print(pg['/Resources'])\n",
    "    if '/XObject' in pg['/Resources']:\n",
    "        print('yes xobject')\n",
    "        xobject = pg['/Resources']['/XObject'].get_object()\n",
    "        procset = pg['/Resources']['/ProcSet'].get_object()\n",
    "        for sub_obj in xobject:\n",
    "            if xobject[sub_obj]['/Subtype'] == '/Image':\n",
    "                img = xobject[sub_obj]\n",
    "                img_data = img._data\n",
    "                img = Image.open(BytesIO(img_data))\n",
    "                img.show()\n",
    "            #print(xobject[sub_obj]['/Subtype'])\n",
    "        #print(text)\n",
    "        #print(img)"
   ]
  },
  {
   "cell_type": "markdown",
   "id": "ee60bb6a",
   "metadata": {},
   "source": [
    "## PDF Parsing"
   ]
  },
  {
   "cell_type": "code",
   "execution_count": 15,
   "id": "395be15b",
   "metadata": {},
   "outputs": [],
   "source": [
    "text = ''\n",
    "for pages in pdf.pages:\n",
    "    text += pages.extract_text()"
   ]
  },
  {
   "cell_type": "code",
   "execution_count": 16,
   "id": "89b69c30",
   "metadata": {},
   "outputs": [
    {
     "data": {
      "text/plain": [
       "'Camelot Documentation\\nRelease 0.11.0\\nVinayak Mehta\\nOct 02, 2023CONTENTS\\n1 Why Camelot? 3\\n2 Support the development 5\\n3 The User Guide 7\\n3.1 Introduction . . . . . . . . . . . . . . . . . . . . . . . . . . . . . . . . . . . . . . . . . . . . . . . 7\\n3.2 Installation of dependencies . . . . . . . . . . . . . . . . . . . . . . . . . . . . . . . . . . . . . . . 8\\n3.3 Installation of Camelot . . . . . . . . . . . . . . . . . . . . . . . . . . . . . . . . . . . . . . . . . . 10\\n3.4 How It Works . . . . . . . . . . . . . . . . . . . . . . . . . . . . . . . . . . . . . . . . . . . . . . . 10\\n3.5 Quickstart . . . . . . . . . . . . . . . . . . . . . . . . . . . . . . . . . . . . . . . . . . . . . . . . 14\\n3.6 Advanced Usage . . . . . . . . . . . . . . . . . . . . . . . . . . . . . . . . . . . . . . . . . . . . . 16\\n3.7 Frequently Asked Questions . . . . . . . . . . . . . . . . . . . . . . . . . . . . . . . . . . . . . . . 38\\n3.8 Command-Line Interface . . . . . . . . . . . . . . . . . . . . . . . . . . . . . . . . . . . . . . . . . 40\\n4 The API Documentation/Guide 41\\n4.1 API Reference . . . . . . . . . . . . . . . . . . . . . . . . . . . . . . . . . . . . . . . . . . . . . . 41\\n5 The Contributor Guide 49\\n5.1 Contributor’s Guide . . . . . . . . . . . . . . . . . . . . . . . . . . . . . . . . . . . . . . . . . . . 49\\nPython Module Index 53\\nIndex 55\\niiiCamelot Documentation, Release 0.11.0\\nRelease v0.11.0. ( Installation )\\nCamelot is a Python library that can help you extract tables from PDFs!\\nNote:You can also check out Excalibur, the web interface to Camelot!\\nHere’s how you can extract tables from PDFs. You can check out the PDF used in this example here.\\n>>> importcamelot\\n>>> tables = camelot.read_pdf (\\'foo.pdf \\')\\n>>> tables\\n<TableList n=1>\\n>>> tables.export (\\'foo.csv \\',f=\\'csv\\',compress= True) # json, excel, html, markdown, ␣\\n˓→sqlite\\n>>> tables [0]\\n<Table shape=(7, 7)>\\n>>> tables [0].parsing_report\\n{\\n\\'accuracy \\': 99.02,\\n\\'whitespace \\': 12.24,\\n\\'order \\': 1,\\n\\'page \\': 1\\n}\\n>>> tables [0].to_csv (\\'foo.csv \\')# to_json, to_excel, to_html, to_markdown, to_sqlite\\n>>> tables [0].df # get a pandas DataFrame!\\nCycle\\nNameKI\\n(1/km)Distance\\n(mi)Percent Fuel Sav-\\nings\\nImproved Speed Decreased Ac-\\ncelEliminate\\nStopsDecreased\\nIdle\\n2012_2 3.30 1.3 5.9% 9.5% 29.2% 17.4%\\n2145_1 0.68 11.2 2.4% 0.1% 9.5% 2.7%\\n4234_1 0.59 58.7 8.5% 1.3% 8.5% 3.3%\\n2032_2 0.17 57.8 21.7% 0.3% 2.7% 1.2%\\n4171_1 0.07 173.9 58.1% 1.6% 2.1% 0.5%\\nCamelot also comes packaged with a command-line interface !\\nCONTENTS 1Camelot Documentation, Release 0.11.0\\nNote:Camelot only works with text-based PDFs and not scanned documents. (As Tabula explains, “If you can click\\nand drag to select text in your table in a PDF viewer, then your PDF is text-based”.)\\nYou can check out some frequently asked questions here.\\n2 CONTENTSCHAPTER\\nONE\\nWHY CAMELOT?\\n•Configurability : Camelot gives you control over the table extraction process with tweakable settings .\\n•Metrics: Youcandiscardbadtablesbasedonmetricslikeaccuracyandwhitespace,withouthavingtomanually\\nlook at each table.\\n•Output: Each table is extracted into a pandas DataFrame , which seamlessly integrates into ETL and data\\nanalysis workflows. You can also export tables to multiple formats, which include CSV, JSON, Excel, HTML,\\nMarkdown, and Sqlite.\\nSee comparison with similar libraries and tools.\\n3Camelot Documentation, Release 0.11.0\\n4 Chapter 1. Why Camelot?CHAPTER\\nTWO\\nSUPPORT THE DEVELOPMENT\\nIfCamelothashelpedyou,pleaseconsidersupportingitsdevelopmentwithaone-timeormonthlydonationonOpen-\\nCollective!\\n5Camelot Documentation, Release 0.11.0\\n6 Chapter 2. Support the developmentCHAPTER\\nTHREE\\nTHE USER GUIDE\\nThis part of the documentation begins with some background information about why Camelot was created, takes you\\nthroughsomeimplementationdetails,andthenfocusesonstep-by-stepinstructionsforgettingthemostoutofCamelot.\\n3.1 Introduction\\n3.1.1 The Camelot Project\\nThePDF(PortableDocumentFormat)wasbornoutofTheCamelotProjecttocreate“auniversalwaytocommunicate\\ndocuments across a wide variety of machine configurations, operating systems and communication networks”. The\\ngoal was to make these documents viewable on any display and printable on any modern printers. The invention of\\nthe PostScript page description language, which enabled the creation of fixed-layout flat documents (with text, fonts,\\ngraphics, images encapsulated), solved this problem.\\nAt a high level, PostScript defines instructions, such as “place this character at this x,ycoordinate on a plane”. Spaces\\ncan besimulated by placing characters relatively far apart. Extending from that, tables can be simulated by placing\\ncharacters (which constitute words) in two-dimensional grids. A PDF viewer just takes these instructions and draws\\neverything for the user to view. Since a PDF is just characters on a plane, there is no table data structure that can be\\nextracted and used for analysis!\\nSadly, a lot of today’s open data is trapped in PDF tables.\\n3.1.2 Why another PDF table extraction library?\\nThere are both open (Tabula, pdf-table-extract) and closed-source (smallpdf, PDFTables) tools that are widely used\\nto extract tables from PDF files. They either give a nice output or fail miserably. There is no in between. This is not\\nhelpfulsinceeverythingintherealworld,includingPDFtableextraction,isfuzzy. Thisleadstothecreationofad-hoc\\ntable extraction scripts for each type of PDF table.\\nCamelotwascreatedtoofferuserscompletecontrolovertableextraction. Ifyoucan’tgetyourdesiredoutputwiththe\\ndefault settings, you can tweak them and get the job done!\\nHere is a comparison of Camelot’s output with outputs from other open-source PDF parsing libraries and tools.\\n7Camelot Documentation, Release 0.11.0\\n3.1.3 What’s in a name?\\nAs you can already guess, this library is named after The Camelot Project.\\nFun fact: In the British comedy film Monty Python and the Holy Grail (and in the Arthurian legend depicted in the\\nfilm), “Camelot” is the name of the castle where Arthur leads his men, the Knights of the Round Table, and then sets\\noffelsewhereafterdecidingthatitis“asillyplace”. Interestingly,thelanguageinwhichthislibraryiswritten(Python)\\nwas named after Monty Python.\\n3.1.4 Camelot License\\nMIT License\\nCopyright (c) 2019-2021 Camelot Developers Copyright (c) 2018-2019 Peeply Private Ltd (Singapore)\\nPermission is hereby granted, free of charge, to any person obtaining a copy of this software and associ-\\nated documentation files (the “Software”), to deal in the Software without restriction, including without\\nlimitation the rights to use, copy, modify, merge, publish, distribute, sublicense, and/or sell copies of the\\nSoftware, and to permit persons to whom the Software is furnished to do so, subject to the following\\nconditions:\\nTheabovecopyrightnoticeandthispermissionnoticeshallbeincludedinallcopiesorsubstantialportions\\nof the Software.\\nTHE SOFTWARE IS PROVIDED “AS IS”, WITHOUT WARRANTY OF ANY KIND, EXPRESS OR\\nIMPLIED, INCLUDING BUT NOT LIMITED TO THE WARRANTIES OF MERCHANTABILITY,\\nFITNESSFORAPARTICULARPURPOSEANDNONINFRINGEMENT.INNOEVENTSHALLTHE\\nAUTHORS OR COPYRIGHT HOLDERS BE LIABLE FOR ANY CLAIM, DAMAGES OR OTHER\\nLIABILITY,WHETHERINANACTIONOFCONTRACT,TORTOROTHERWISE,ARISINGFROM,\\nOUT OF OR IN CONNECTION WITH THE SOFTWARE OR THE USE OR OTHER DEALINGS IN\\nTHE SOFTWARE.\\n3.2 Installation of dependencies\\nThe dependencies Ghostscript and Tkinter can be installed using your system’s package manager or by running their\\ninstaller.\\n3.2.1 OS-specific instructions\\nUbuntu\\n$ apt install ghostscript python3-tk\\n8 Chapter 3. The User GuideCamelot Documentation, Release 0.11.0\\nMacOS\\n$ brew install ghostscript tcl-tk\\nWindows\\nFor Ghostscript, you can get the installer at their downloads page. And for Tkinter, you can download the ActiveTcl\\nCommunity Edition from ActiveState.\\n3.2.2 Checks to see if dependencies are installed correctly\\nYou can run the following checks to see if the dependencies were installed correctly.\\nFor Ghostscript\\nOpen the Python REPL and run the following:\\nFor Ubuntu/MacOS:\\n>>> fromctypes.util importfind_library\\n>>> find_library (\"gs\" )\\n\"libgs.so.9\"\\nFor Windows:\\n>>> importctypes\\n>>> fromctypes.util importfind_library\\n>>> find_library (\"\".join ((\"gsdll\" ,str(ctypes.sizeof (ctypes.c_voidp )* 8),\".dll\" )))\\n<name-of-ghostscript-library-on-windows>\\nCheck:The output of the find_library function should not be empty.\\nIf the output is empty, then it’s possible that the Ghostscript library is not available one of the\\nLD_LIBRARY_PATH /DYLD_LIBRARY_PATH /PATHvariables depending on your operating system. In this case,\\nyou may have to modify one of those path variables.\\nFor Tkinter\\nLaunch Python and then import Tkinter:\\n>>> importtkinter\\nCheck:Importing tkinter should not raise an import error.\\n3.2. Installation of dependencies 9Camelot Documentation, Release 0.11.0\\n3.3 Installation of Camelot\\nThis part of the documentation covers the steps to install Camelot.\\nAfterinstallingthedependencies ,whichincludeGhostscriptandTkinter,youcanuseoneofthefollowingmethodsto\\ninstall Camelot:\\nWarning: Thelattice flavorwillfailtorunifGhostscriptisnotinstalled. Youmayrunintoerrorsasshownin\\nissue #193.\\n3.3.1 pip\\nTo install Camelot from PyPI using pip, please include the extra cvrequirement as shown:\\n$ pip install \"camelot-py[base]\"\\n3.3.2 conda\\ncondais a package manager and environment management system for the Anaconda distribution. It can be used to\\ninstall Camelot from the conda-forge channel:\\n$ conda install -c conda-forge camelot-py\\n3.3.3 From the source code\\nAfterinstalling the dependencies , you can install Camelot from source by:\\n1. Cloning the GitHub repository.\\n$ git clone https://www.github.com/camelot-dev/camelot\\n2. And then simply using pip again.\\n$ cd camelot\\n$ pip install \".[base]\"\\n3.4 How It Works\\nThis part of the documentation includes a high-level explanation of how Camelot extracts tables from PDF files.\\nYou can choose between two table parsing methods, StreamandLattice. These names for parsing methods inside\\nCamelot were inspired from Tabula.\\n10 Chapter 3. The User GuideCamelot Documentation, Release 0.11.0\\n3.4.1 Stream\\nStream can be used to parse tables that have whitespaces between cells to simulate a table structure. It is built on top\\nof PDFMiner’s functionality of grouping characters on a page into words and sentences, using margins.\\n1. Words on the PDF page are grouped into text rows based on their yaxis overlaps.\\n2. Textedges are calculated and then used to guess interesting table areas on the PDF page. You can read Anssi\\nNurminen’s master’s thesis to know more about this table detection technique. [See pages 20, 35 and 40]\\n3. Thenumberofcolumnsinsideeachtableareaarethenguessed. Thisisdonebycalculatingthemodeofnumber\\nof words in each text row. Based on this mode, words in each text row are chosen to calculate a list of column x\\nranges.\\n4. Words that lie inside/outside the current column xranges are then used to extend the current list of columns.\\n5. Finally, a table is formed using the text rows’ yranges and column xranges and words found on the page are\\nassigned to the table’s cells based on their xandycoordinates.\\n3.4.2 Lattice\\nLatticeismoredeterministicinnature,anditdoesnotrelyonguesses. Itcanbeusedtoparsetablesthathavedemarcated\\nlines between cells, and it can automatically parse multiple tables present on a page.\\nIt starts by converting the PDF page to an image using ghostscript, and then processes it to get horizontal and vertical\\nline segments by applying a set of morphological transformations (erosion and dilation) using OpenCV.\\nLet’s see how Lattice processes the second page of this PDF, step-by-step.\\n1. Line segments are detected.\\n2. Line intersections are detected, by overlapping the detected line segments and “and”ing their pixel intensities.\\n3.4. How It Works 11Camelot Documentation, Release 0.11.0\\n3. Tableboundariesarecomputedbyoverlappingthedetectedlinesegmentsagain,thistimeby“or”ingtheirpixel\\nintensities.\\n4. Since dimensions of the PDF page and its image vary, the detected table boundaries, line intersections, and line\\nsegmentsarescaledandtranslatedtothePDFpage’scoordinatespace,andarepresentationofthetableiscreated.\\n12 Chapter 3. The User GuideCamelot Documentation, Release 0.11.0\\n5. Spanning cells are detected using the line segments and line intersections.\\n6. Finally, the words found on the page are assigned to the table’s cells based on their xandycoordinates.\\n3.4. How It Works 13Camelot Documentation, Release 0.11.0\\n3.5 Quickstart\\nInahurrytoextracttablesfromPDFs? ThisdocumentgivesagoodintroductiontohelpyougetstartedwithCamelot.\\n3.5.1 Read the PDF\\nReading a PDF to extract tables with Camelot is very simple.\\nBegin by importing the Camelot module:\\n>>> importcamelot\\nNow, let’s try to read a PDF. (You can check out the PDF used in this example here.) Since the PDF has a table with\\nclearly demarcated lines, we will use the Latticemethod here.\\nNote:Latticeis used by default. You can use Streamwithflavor= \\'stream \\'.\\n>>> tables = camelot.read_pdf (\\'foo.pdf \\')\\n>>> tables\\n<TableList n=1>\\nNow, we have a TableList object called tables, which is a list of Tableobjects. We can get everything we need\\nfrom this object.\\nWecanaccesseachtableusingitsindex. Fromthecodesnippetabove,wecanseethatthe tablesobjecthasonlyone\\ntable, since n=1. Let’s access the table using the index 0and take a look at its shape.\\n>>> tables [0]\\n<Table shape=(7, 7)>\\nLet’s print the parsing report.\\n>>> print tables [0].parsing_report\\n{\\n\\'accuracy \\': 99.02,\\n\\'whitespace \\': 12.24,\\n\\'order \\': 1,\\n\\'page \\': 1\\n}\\nWoah! Theaccuracyistop-notchandthereislesswhitespace,whichmeansthetablewasmostlikelyextractedcorrectly.\\nYou can access the table as a pandas DataFrame by using the tableobject’sdfproperty.\\n>>> tables [0].df\\n14 Chapter 3. The User GuideCamelot Documentation, Release 0.11.0\\nCycle\\nNameKI\\n(1/km)Distance\\n(mi)Percent Fuel Sav-\\nings\\nImproved Speed Decreased Ac-\\ncelEliminate\\nStopsDecreased\\nIdle\\n2012_2 3.30 1.3 5.9% 9.5% 29.2% 17.4%\\n2145_1 0.68 11.2 2.4% 0.1% 9.5% 2.7%\\n4234_1 0.59 58.7 8.5% 1.3% 8.5% 3.3%\\n2032_2 0.17 57.8 21.7% 0.3% 2.7% 1.2%\\n4171_1 0.07 173.9 58.1% 1.6% 2.1% 0.5%\\nLooks good! You can now export the table as a CSV file using its to_csv() method. Alternatively you can use\\nto_json() ,to_excel() to_html() to_markdown() orto_sqlite() methodstoexportthetableasJSON,Excel,\\nHTML files or a sqlite database respectively.\\n>>> tables [0].to_csv (\\'foo.csv \\')\\nThis will export the table as a CSV file at the path specified. In this case, it is foo.csv in the current directory.\\nYou can also export all tables at once, using the tablesobject’s export() method.\\n>>> tables.export (\\'foo.csv \\',f=\\'csv\\')\\nTip:Here’s how you can do the same with the command-line interface .\\n$ camelot --format csv --output foo.csv lattice foo.pdf\\nThis will export all tables as CSV files at the path specified. Alternatively, you can use f=\\'json \\',f=\\'excel \\',\\nf=\\'html \\',f=\\'markdown \\'orf=\\'sqlite \\'.\\nNote:Theexport() method exports files with a page-*-table-* suffix. In the example above, the single table in\\nthelistwillbeexportedto foo-page-1-table-1.csv . Ifthelistcontainsmultipletables,multipleCSVfileswillbe\\ncreated. Toavoidfillingupyourpathwithmultiplefiles,youcanuse compress=True ,whichwillcreateasingleZIP\\nfile at your path with all the CSV files.\\nNote:Camelot handles rotated PDF pages automatically. As an exercise, try to extract the table out of this PDF.\\n3.5.2 Specify page numbers\\nBy default, Camelot only uses the first page of the PDF to extract tables. To specify multiple pages, you can use the\\npageskeyword argument:\\n>>> camelot.read_pdf (\\'your.pdf \\',pages= \\'1,2,3 \\')\\nTip:Here’s how you can do the same with the command-line interface .\\n$ camelot --pages 1,2,3 lattice your.pdf\\n3.5. Quickstart 15Camelot Documentation, Release 0.11.0\\nThepageskeyword argument accepts pages as comma-separated string of page numbers. You can also specify page\\nranges — for example, pages=1,4-10,20-30 orpages=1,4-10,20-end .\\n3.5.3 Reading encrypted PDFs\\nTo extract tables from encrypted PDF files you must provide a password when calling read_pdf() .\\n>>> tables = camelot.read_pdf (\\'foo.pdf \\',password= \\'userpass \\')\\n>>> tables\\n<TableList n=1>\\nTip:Here’s how you can do the same with the command-line interface .\\n$ camelot --password userpass lattice foo.pdf\\nCamelotsupportsPDFswithallencryptiontypessupportedbypypdf. ThismightrequireinstallingPyCryptodome. An\\nexceptionisthrownifthePDFcannotberead. Thismaybeduetonopasswordbeingprovided,anincorrectpassword,\\nor an unsupported encryption algorithm.\\nFurther encryption support may be added in future, however in the meantime if your PDF files are using unsupported\\nencryption algorithms you are advised to remove encryption before calling read_pdf() . This can been successfully\\nachieved with third-party tools such as QPDF.\\n$ qpdf --password=<PASSWORD> --decrypt input.pdf output.pdf\\nReady for more? Check out the advanced section.\\n3.6 Advanced Usage\\nThis page covers some of the more advanced configurations for LatticeandStream.\\n3.6.1 Process background lines\\nTo detect line segments, Latticeneeds the lines that make the table to be in the foreground. Here’s an example of a\\ntable with lines in the background:\\nSource: PDF\\nTo\\npro-\\ncess\\nback-\\nground\\nlines,\\nyou\\ncan\\npass\\nprocess_background=True .\\n16 Chapter 3. The User GuideCamelot Documentation, Release 0.11.0\\n>\\n˓→>\\n˓→>\\n˓→␣\\n˓→tables␣\\n˓→=␣\\n˓→camelot.\\n˓→read_pdf (\\n˓→\\'background_\\n˓→lines.pdf\\n˓→\\',␣\\n˓→process_\\n˓→background= True)\\n>>>␣\\n˓→tables [1].\\n˓→df\\nTip:Here’s how you can do the same with the command-line interface .\\n$ camelot lattice -back background_lines.pdf\\nState Date Halt\\nstationsHalt\\ndaysPersons directly\\nreached(in lakh)Persons\\ntrainedPersons\\ncounseledPersons\\ntestedfor HIV\\nDelhi 1.12.2009 8 171.29 3,665 2,409 1,000\\nRa-\\njasthan2.12.2009 to\\n19.12.2009\\nGujarat 20.12.2009 to\\n3.1.20106 136.03 3,810 2,317 1,453\\nMaha-\\nrashtra4.01.2010 to\\n1.2.201013 261.27 5,680 9,027 4,153\\nKar-\\nnataka2.2.2010 to\\n22.2.201011 191.80 5,741 3,658 3,183\\nKerala 23.2.2010 to\\n11.3.20109 171.42 3,559 2,173 855\\nTotal 47 9211.81 22,455 19,584 10,644\\n3.6.2 Visual debugging\\nNote:Visual debugging using plot()requires matplotlib which is an optional dependency. You can install it using\\n$ pip install camelot-py[plot] .\\nYou can use the plot()method to generate a matplotlib plot of various elements that were detected on the PDF page\\nwhile processing it. This can help you select table areas, column separators and debug bad table outputs, by tweaking\\ndifferent configuration parameters.\\nYou can specify the type of element you want to plot using the kindkeyword argument. The generated plot can be\\nsaved to a file by passing a filename keyword argument. The following plot types are supported:\\n•‘text’\\n3.6. Advanced Usage 17Camelot Documentation, Release 0.11.0\\n•‘grid’\\n•‘contour’\\n•‘line’\\n•‘joint’\\n•‘textedge’\\nNote:‘line’ and ‘joint’ can only be used with Latticeand ‘textedge’ can only be used with Stream.\\nLet’s generate a plot for each type using this PDF as an example. First, let’s get all the tables out.\\n>>> tables = camelot.read_pdf (\\'foo.pdf \\')\\n>>> tables\\n<TableList n=1>\\ntext\\nLet’s plot all the text present on the table’s PDF page.\\n>>> camelot.plot (tables [0],kind= \\'text \\').show ()\\nTip:Here’s how you can do the same with the command-line interface .\\n$ camelot lattice -plot text foo.pdf\\nThis,\\nas\\nwe\\nshall\\nlater\\nsee,\\nis\\nvery\\nhelp-\\nful\\nwith\\nStream\\nfor\\nnot-\\ning\\nta-\\nble\\nar-\\neas\\nand\\ncol-\\numn\\nsep-\\narators, in case Stream does not guess them correctly.\\n18 Chapter 3. The User GuideCamelot Documentation, Release 0.11.0\\nNote:Thex-ycoordinates shown above change as you move your mouse cursor on the image, which can help you\\nnote coordinates.\\ntable\\nLet’splotthetable(toseeifitwasdetectedcorrectlyornot). Thisplottype,alongwithcontour,lineandjointisuseful\\nfor debugging and improving the extraction output, in case the table wasn’t detected correctly. (More on that later.)\\n>>> camelot.plot (tables [0],kind= \\'grid \\').show ()\\nTip:Here’s how you can do the same with the command-line interface .\\n$ camelot lattice -plot grid foo.pdf\\nThe\\nta-\\nble\\nis\\nper-\\nfect!\\ncontour\\nNow,\\nlet’s\\nplot\\nall\\nta-\\nble\\nbound-\\naries\\npresent\\non\\nthe\\nta-\\nble’s\\nPDF\\npage.\\n>\\n˓→>\\n˓→>\\n˓→␣\\n˓→camelot.\\n˓→plot (tables [0],\\n˓→␣\\n˓→kind=\\n˓→\\'contour\\n3.6. Advanced Usage 19Camelot Documentation, Release 0.11.0\\n(continued from previous page)\\n˓→\\').\\n˓→show ()\\nTip:Here’s how you can do the same with the command-line interface .\\n$ camelot lattice -plot contour foo.pdf\\nline\\nCool,\\nlet’s\\nplot\\nall\\nline\\nseg-\\nments\\npresent\\non\\nthe\\nta-\\nble’s\\nPDF\\npage.\\n>\\n˓→>\\n˓→>\\n˓→␣\\n˓→camelot.\\n˓→plot (tables [0],\\n˓→␣\\n˓→kind=\\n˓→\\'line\\n˓→\\').\\n˓→show ()\\nTip:Here’s how you can do the same with the command-line interface .\\n$ camelot lattice -plot line foo.pdf\\n20 Chapter 3. The User GuideCamelot Documentation, Release 0.11.0\\njoint\\nFi-\\nnally,\\nlet’s\\nplot\\nall\\nline\\nin-\\nter-\\nsec-\\ntions\\npresent\\non\\nthe\\nta-\\nble’s\\nPDF\\npage.\\n>\\n˓→>\\n˓→>\\n˓→␣\\n˓→camelot.\\n˓→plot (tables [0],\\n˓→␣\\n˓→kind=\\n˓→\\'joint\\n˓→\\').\\n˓→show ()\\nTip:Here’s how you can do the same with the command-line interface .\\n$ camelot lattice -plot joint foo.pdf\\ntextedge\\nYou\\ncan\\nalso\\nvi-\\nsu-\\nal-\\nize\\nthe\\ntextedges\\nfound\\non\\na\\n3.6. Advanced Usage 21Camelot Documentation, Release 0.11.0\\npage\\nby\\nspec-\\ni-\\nfy-\\ning\\nkind= \\'textedge \\'.\\nTo\\nknow\\nmore\\nabout what a “textedge” is, you can see pages 20, 35 and 40 of Anssi Nurminen’s master’s thesis.\\n>>> camelot.plot (tables [0],kind= \\'textedge \\').show ()\\nTip:Here’s how you can do the same with the command-line interface .\\n$ camelot stream -plot textedge foo.pdf\\n3.6.3 Specify\\nta-\\nble\\nar-\\neas\\nIn\\ncases\\nsuch\\nas\\nthese,\\nit\\ncan\\nbe\\nuse-\\nful\\nto\\nspec-\\nify\\nex-\\nact\\nta-\\nble\\nbound-\\naries. You can plot the text on this page and note the top left and bottom right coordinates of the table.\\nTableareasthatyouwantCamelottoanalyzecanbepassedasalistofcomma-separatedstringsto read_pdf() ,using\\nthetable_areas keyword argument.\\n22 Chapter 3. The User GuideCamelot Documentation, Release 0.11.0\\n>>> tables = camelot.read_pdf (\\'table_areas.pdf \\',flavor= \\'stream \\',table_areas= [\\'316,499,\\n˓→566,337 \\'])\\n>>> tables [0].df\\nTip:Here’s how you can do the same with the command-line interface .\\n$ camelot stream -T 316,499,566,337 table_areas.pdf\\nOne Withholding\\nPayroll Period Allowance\\nWeekly $71.15\\nBiweekly 142.31\\nSemimonthly 154.17\\nMonthly 308.33\\nQuarterly 925.00\\nSemiannually 1,850.00\\nAnnually 3,700.00\\nDaily or Miscellaneous 14.23\\n(each day of the payroll period)\\nNote:table_areas accepts strings of the form x1,y1,x2,y2 where (x1, y1) -> top-left and (x2, y2) -> bottom-right\\nin PDF coordinate space. In PDF coordinate space, the bottom-left corner of the page is the origin, with coordinates\\n(0, 0).\\n3.6.4 Specify table regions\\nHowevertheremaybecaseslike[1]and[2],wherethetablemightnotlieattheexactcoordinateseverytimebutinan\\napproximate region.\\nYou can use the table_regions keyword argument to read_pdf() to solve for such cases. When table_regions\\nis specified, Camelot will only analyze the specified regions to look for tables.\\n>>> tables = camelot.read_pdf (\\'table_regions.pdf \\',table_regions= [\\'170,370,560,270 \\'])\\n>>> tables [0].df\\nTip:Here’s how you can do the same with the command-line interface .\\n$ camelot lattice -R 170,370,560,270 table_regions.pdf\\nEtà dell’Assicuratoall’epoca del decesso Misura % dimaggiorazione\\n18-75 1,00%\\n76-80 0,50%\\n81 in poi 0,10%\\n3.6. Advanced Usage 23Camelot Documentation, Release 0.11.0\\n3.6.5 Specify column separators\\nIncaseslikethese,wherethetextisveryclosetoeachother,itispossiblethatCamelotmayguessthecolumnseparators’\\ncoordinatesincorrectly. Tocorrectthis,youcanexplicitlyspecifythe xcoordinateforeachcolumnseparatorbyplotting\\nthe text on the page.\\nYoucanpassthecolumnseparatorsasalistofcomma-separatedstringsto read_pdf() ,usingthe columns keyword\\nargument.\\nIn case you passed a single column separators string list, and no table area is specified, the separators will be applied\\ntothewholepage. Whenalistoftableareasisspecifiedandyouneedtospecifycolumnseparatorsaswell, thelength\\nof both lists should be equal . Each table area will be mapped to each column separators’ string using their indices.\\nFor example, if you have specified two table areas, table_areas=[ \\'12,54,43,23 \\',\\'20,67,55,33 \\'], and only\\nwant to specify column separators for the first table, you can pass an empty string for the second table in the column\\nseparators’ list like this, columns=[ \\'10,120,200,400 \\',\\'\\'].\\nLet’s get back to the xcoordinates we got from plotting the text that exists on this PDF, and get the table out!\\n>>> tables = camelot.read_pdf (\\'column_separators.pdf \\',flavor= \\'stream \\',columns= [\\'72,95,\\n˓→209,327,442,529,566,606,683 \\'])\\n>>> tables [0].df\\nTip:Here’s how you can do the same with the command-line interface .\\n$ camelot stream -C 72,95,209,327,442,529,566,606,683 column_separators.pdf\\n... ......... ... ............ ...\\nLICENSE PREMISE\\nNUMBER TYPE DBA\\nNAMELICENSEE\\nNAMEAD-\\nDRESSCITYSTZIPPHONE\\nNUMBEREX-\\nPIRES\\n... ......... ... ............ ...\\nAh! SincePDFMinermergedthestrings,“NUMBER”,“TYPE”and“DBANAME”,allofthemwereassignedtothe\\nsame cell. Let’s see how we can fix this in the next section.\\n3.6.6 Split text along separators\\nTo deal with cases like the output from the previous section, you can pass split_text=True toread_pdf() , which\\nwillsplitanystringsthatlieindifferentcellsbuthavebeenassignedtoasinglecell(asaresultofbeingmergedtogether\\nby PDFMiner).\\n>>> tables = camelot.read_pdf (\\'column_separators.pdf \\',flavor= \\'stream \\',columns= [\\'72,95,\\n˓→209,327,442,529,566,606,683 \\'],split_text= True)\\n>>> tables [0].df\\nTip:Here’s how you can do the same with the command-line interface .\\n$ camelot -split stream -C 72,95,209,327,442,529,566,606,683 column_separators.pdf\\n24 Chapter 3. The User GuideCamelot Documentation, Release 0.11.0\\n... ...... ... ... ............ ...\\nLI-\\nCENSEPREMISE\\nNUM-\\nBERTYPEDBA\\nNAMELICENSEE\\nNAMEAD-\\nDRESSCITYSTZIPPHONE NUM-\\nBEREX-\\nPIRES\\n... ...... ... ... ............ ...\\n3.6.7 Flag superscripts and subscripts\\nThere might be cases where you want to differentiate between the text and superscripts or subscripts, like this PDF.\\nIn\\nthis\\ncase,\\nthe\\ntext\\nthat\\nother\\ntools\\nre-\\nturn,\\nwill\\nbe\\n24.\\n912.\\nThis\\nis relatively harmless when that decimal point is involved. But when it isn’t there, you’ll be left wondering why the\\nresults of your data analysis are 10x bigger!\\nYou can solve this by passing flag_size=True , which will enclose the superscripts and subscripts with <s></s>,\\nbased on font size, as shown below.\\n>>> tables = camelot.read_pdf (\\'superscript.pdf \\',flavor= \\'stream \\',flag_size= True)\\n>>> tables [0].df\\nTip:Here’s how you can do the same with the command-line interface .\\n$ camelot -flag stream superscript.pdf\\n... ... ... ... ... ... ... ... ... ... ...\\nKar-\\nnataka22.44 19.59• •2.86 1.22•0.89•0.69\\nKerala 29.03 24.91<s>2</s>• •4.11 1.77•0.48•1.45\\nMad-\\nhya\\nPradesh27.13 23.57• •3.56 0.38•1.86•1.28\\n... ... ... ... ... ... ... ... ... ... ...\\n3.6. Advanced Usage 25Camelot Documentation, Release 0.11.0\\n3.6.8 Strip characters from text\\nYou can strip unwanted characters like spaces, dots and newlines from a string using the strip_text keyword argu-\\nment. Take a look at this PDF as an example, the text at the start of each row contains a lot of unwanted spaces, dots\\nand newlines.\\n>>> tables = camelot.read_pdf (\\'12s0324.pdf \\',flavor= \\'stream \\',strip_text= \\'.\\\\n\\')\\n>>> tables [0].df\\nTip:Here’s how you can do the same with the command-line interface .\\n$ camelot -strip \\'.\\\\n\\'stream 12s0324.pdf\\n... ... ...... ..................\\nForcible rape 17.5 2.614.9 17.22.514.7–––\\nRobbery 102.1 25.576.6 90.022.967.112.12.59.5\\nAggravated assault 338.4 40.1298.3 264.030.2233.874.49.964.5\\nProperty crime 1,396 .4 338 .71,057 .7 875 .9210 .8665 .1608 .2127 .9392 .6\\nBurglary 240.9 60.3180.6 205.053.4151.735.96.929.0\\n... ... ...... ..................\\n3.6.9 Improve guessed table areas\\nWhile using Stream, automatic table detection can fail for PDFs like this one. That’s because the text is relatively far\\napart vertically, which can lead to shorter textedges being calculated.\\nNote:Toknowmoreabouthowtextedgesarecalculatedtoguesstableareas,youcanseepages20,35and40ofAnssi\\nNurminen’s master’s thesis.\\nLet’s see the table area that is detected by default.\\n>>> tables = camelot.read_pdf (\\'edge_tol.pdf \\',flavor= \\'stream \\')\\n>>> camelot.plot (tables [0],kind= \\'contour \\').show ()\\nTip:Here’s how you can do the same with the command-line interface .\\n$ camelot stream -plot contour edge.pdf\\nTo\\nim-\\nprove\\nthe\\nde-\\ntected\\narea,\\nyou\\ncan\\n26 Chapter 3. The User GuideCamelot Documentation, Release 0.11.0\\nin-\\ncrease\\nthe\\nedge_tol\\n(de-\\nfault:\\n50)\\nvalue\\nto\\ncounter\\nthe\\nef-\\nfect\\nof\\ntext being placed relatively far apart vertically. Larger edge_tol will lead to longer textedges being detected, leading\\nto an improved guess of the table area. Let’s use a value of 500.\\n>>> tables = camelot.read_pdf (\\'edge_tol.pdf \\',flavor= \\'stream \\',edge_tol=500 )\\n>>> camelot.plot (tables [0],kind= \\'contour \\').show ()\\nTip:Here’s how you can do the same with the command-line interface .\\n$ camelot stream -e 500 -plot contour edge.pdf\\nAs\\nyou\\ncan\\nsee,\\nthe\\nguessed\\nta-\\nble\\narea\\nhas\\nim-\\nproved!\\n3.6.10 Improve\\nguessed\\nta-\\nble\\nrows\\nYou\\ncan\\npass\\nrow_tol=<+int>\\nto\\ngroup\\nthe rows closer together, as shown below.\\n3.6. Advanced Usage 27Camelot Documentation, Release 0.11.0\\n>>> tables = camelot.read_pdf (\\'group_rows.pdf \\',flavor= \\'stream \\')\\n>>> tables [0].df\\nClave Clave Clave\\nNombre Enti-\\ndadNombre Munici-\\npioNombre Locali-\\ndad\\nEnti-\\ndadMunici-\\npioLocali-\\ndad\\n01 Aguascalientes 001 Aguas-\\ncalientes0094 Granja Adelita\\n01 Aguascalientes 001 Aguas-\\ncalientes0096 Agua Azul\\n01 Aguascalientes 001 Aguas-\\ncalientes0100 Rancho Alegre\\n>>> tables = camelot.read_pdf (\\'group_rows.pdf \\',flavor= \\'stream \\',row_tol=10 )\\n>>> tables [0].df\\nTip:Here’s how you can do the same with the command-line interface .\\n$ camelot stream -r 10 group_rows.pdf\\nClave Nombre Enti-\\ndadClave Nombre Munici-\\npioClave Nombre Locali-\\ndad\\nEnti-\\ndadMunici-\\npioLocali-\\ndad\\n01 Aguascalientes 001 Aguas-\\ncalientes0094 Granja Adelita\\n01 Aguascalientes 001 Aguas-\\ncalientes0096 Agua Azul\\n01 Aguascalientes 001 Aguas-\\ncalientes0100 Rancho Alegre\\n3.6.11 Detect short lines\\nThere might be cases while using Latticewhen smaller lines don’t get detected. The size of the smallest line that gets\\ndetectediscalculatedbydividingthePDFpage’sdimensionswithascalingfactorcalled line_scale . Bydefault,its\\nvalue is 15.\\nAs you can guess, the larger the line_scale , the smaller the size of lines getting detected.\\nWarning: Makingline_scale very large (>150) will lead to text getting detected as lines.\\nHere’s a PDF where small lines separating the the headers don’t get detected with the default value of 15.\\nLet’s\\nplot\\n28 Chapter 3. The User GuideCamelot Documentation, Release 0.11.0\\nthe\\nta-\\nble\\nfor\\nthis\\nPDF.\\n>\\n˓→>\\n˓→>\\n˓→␣\\n˓→tables␣\\n˓→=␣\\n˓→camelot.\\n˓→read_\\n˓→pdf(\\n˓→\\'short_\\n˓→lines.\\n˓→pdf\\n˓→\\')\\n>\\n˓→>\\n˓→>\\n˓→␣\\n˓→camelot.\\n˓→plot (tables [0],\\n˓→␣\\n˓→kind=\\n˓→\\'grid\\n˓→\\').\\n˓→show ()\\nClearly,\\nthe\\nsmaller\\nlines\\nsep-\\na-\\nrat-\\ning\\nthe\\nhead-\\ners,\\ncouldn’t\\nbe\\nde-\\ntected.\\nLet’s\\ntry\\nwith\\nline_scale=40 ,\\nand\\nplot\\nthe table again.\\n3.6. Advanced Usage 29Camelot Documentation, Release 0.11.0\\n>>> tables = camelot.read_pdf (\\'short_lines.pdf \\',line_scale=40 )\\n>>> camelot.plot (tables [0],kind= \\'grid \\').show ()\\nTip:Here’s how you can do the same with the command-line interface .\\n$ camelot lattice -scale 40 -plot grid short_lines.pdf\\nVoila!\\nCamelot\\ncan\\nnow\\nsee\\nthose\\nlines.\\nLet’s\\nget\\nour\\nta-\\nble.\\n>\\n˓→>\\n˓→>\\n˓→␣\\n˓→tables [0].\\n˓→df\\n30 Chapter 3. The User GuideCamelot Documentation, Release 0.11.0\\nIn-\\nves-\\nti-\\nga-\\ntionsNo.\\nofHHsAge/Sex/Physiological\\nGroupPreva-\\nlenceC.I*Rel-\\na-\\ntive-\\nPre-\\nci-\\nsionSam-\\nple\\nsizeper\\nState\\nAn-\\nthro-\\npom-\\ne-\\ntry2400All\\n...\\nClin-\\ni-\\ncal\\nEx-\\nam-\\ni-\\nna-\\ntion\\nHis-\\ntory\\nof\\nmor-\\nbid-\\nity\\nDiet\\nsur-\\nvey1200All\\n...\\nBlood\\nPres-\\nsure\\n#2400Men\\n(\\n18yrs)10%95%20%1728\\nWomen\\n(\\n18\\nyrs)1728\\nFast-\\ning\\nblood\\nglu-\\ncose2400Men\\n(\\n18\\nyrs)5%95%20%1825\\nWomen\\n(\\n18\\nyrs)1825\\nKnowl-\\nedge\\n&Prac-\\ntices\\non\\nHTN\\n&DM2400Men\\n(\\n18\\nyrs)•••1728\\n2400Women\\n(\\n18\\nyrs)•••1728\\n3.6. Advanced Usage 31Camelot Documentation, Release 0.11.0\\n3.6.12 Shift\\ntext\\nin spanning cells\\nBy default, the Latticemethod shifts text in spanning cells, first to the left and then to the top, as you can observe in\\nthe output table above. However, this behavior can be changed using the shift_text keyword argument. Think of it\\nas setting the gravityfor a table — it decides the direction in which the text will move and finally come to rest.\\nshift_text expects a list with one or more characters from the following set: (\\'\\', l\\',\\'r\\',\\'t\\',\\'b\\'), which\\nare then applied in order. The default, as we discussed above, is [\\'l\\',\\'t\\'].\\nWe’llusethePDFfromthepreviousexample. Let’spass shift_text=[ \\'\\'],whichbasicallymeansthatthetextwill\\nexperience weightlessness! (It will remain in place.)\\n>\\n˓→>\\n˓→>\\n˓→␣\\n˓→tables␣\\n˓→=␣\\n˓→camelot.\\n˓→read_\\n˓→pdf(\\n˓→\\'short_\\n˓→lines.\\n˓→pdf\\n˓→\\',\\n˓→␣\\n˓→line_\\n˓→scale=40 ,\\n˓→␣\\n˓→shift_\\n˓→text= [\\n˓→\\'\\n˓→\\'])\\n>\\n˓→>\\n˓→>\\n˓→␣\\n˓→tables [0].\\n˓→df\\n32 Chapter 3. The User GuideCamelot Documentation, Release 0.11.0\\nInvestiga-\\ntionsNo. ofHHs Age/Sex/Physiological\\nGroupPreva-lence C.I* RelativePre-\\ncisionSample\\nsizeper State\\nAnthropome-\\ntry\\nClinical\\nExamination2400 All ...\\nHistory of\\nmorbidity\\nDiet survey 1200 All ...\\nMen ( 18yrs) 1728\\nBlood Pres-\\nsure #2400 Women ( 18\\nyrs)10% 95% 20% 1728\\nMen ( 18 yrs) 1825\\nFasting blood\\nglucose2400 Women ( 18\\nyrs)5% 95% 20% 1825\\nKnowledge\\n&Practices\\non HTN &2400 Men ( 18 yrs)• • •1728\\nDM 2400 Women ( 18\\nyrs)• • •1728\\nNosurprisesthere—itdidremaininplace(observethestrings“2400”and“Alltheavailableindividuals”). Let’spass\\nshift_text=[ \\'r\\',\\'b\\']to set the gravityto right-bottom and move the text in that direction.\\n>>> tables = camelot.read_pdf (\\'short_lines.pdf \\',line_scale=40 ,shift_text= [\\'r\\',\\'b\\'])\\n>>> tables [0].df\\nTip:Here’s how you can do the same with the command-line interface .\\n$ camelot lattice -scale 40 -shift r -shift b short_lines.pdf\\n3.6. Advanced Usage 33Camelot Documentation, Release 0.11.0\\nInvestiga-\\ntionsNo. ofHHs Age/Sex/Physiological\\nGroupPreva-lence C.I* RelativePre-\\ncisionSample\\nsizeper State\\nAnthropome-\\ntry\\nClinical\\nExamination\\nHistory of\\nmorbidity2400 All ...\\nDiet survey 1200 All ...\\nMen ( 18yrs) 1728\\nBlood Pres-\\nsure #2400 Women ( 18\\nyrs)10% 95% 20% 1728\\nMen ( 18 yrs) 1825\\nFasting blood\\nglucose2400 Women ( 18\\nyrs)5% 95% 20% 1825\\n2400 Men ( 18 yrs)• • •1728\\nKnowledge\\n&Practices\\non HTN\\n&DM2400 Women ( 18\\nyrs)• • •1728\\n3.6.13 Copy text in spanning cells\\nYou can copy text in spanning cells when using Lattice, in either the horizontal or vertical direction, or both. This\\nbehavior is disabled by default.\\ncopy_text expectsalistwithoneormorecharactersfromthefollowingset: (\\'v\\',\\'h\\'),whicharethenapplied in\\norder.\\nLet’s try it out on this PDF. First, let’s check out the output table to see if we need to use any other configuration\\nparameters.\\n>>> tables = camelot.read_pdf (\\'copy_text.pdf \\')\\n>>> tables [0].df\\n34 Chapter 3. The User GuideCamelot Documentation, Release 0.11.0\\nSl. No. Name of\\nState/UTName of\\nDistrictDisease/\\nIllnessNo. of\\nCasesNo. of\\nDeathsDate\\nof start\\nof out-\\nbreakDate of\\nreport-\\ningCurrent\\nStatus...\\n1 Kerala Kollami.\\nFood\\nPoi-\\nson-\\ning19 0 31/12/13 03/01/14 Under\\ncontrol...\\n2 Maha-\\nrashtraBeedi.\\nDengue\\n&\\nChikun-\\ngunya\\ni11 0 03/01/14 04/01/14 Under\\ncontrol...\\n3 Odisha Kala-\\nhandiiii.\\nFood\\nPoi-\\nson-\\ning42 0 02/01/14 03/01/14 Under\\ncontrol...\\n4 West\\nBengalWest\\nMe-\\ndinipuriv.\\nAcute\\nDi-\\nar-\\nrhoeal\\nDis-\\nease145 0 04/01/14 05/01/14 Under\\ncontrol...\\nBirb-\\nhumv.\\nFood\\nPoi-\\nson-\\ning199 0 31/12/13 31/12/13 Under\\ncontrol...\\nHowrahvi.\\nVi-\\nral\\nHep-\\nati-\\ntis\\nA\\n&E85 0 26/12/13 27/12/13 Under\\nsurveil-\\nlance...\\nWe don’t need anything else. Now, let’s pass copy_text=[ \\'v\\']to copy text in the vertical direction. This can save\\nyou some time by not having to add this step in your cleaning script!\\n3.6. Advanced Usage 35Camelot Documentation, Release 0.11.0\\n>>> tables = camelot.read_pdf (\\'copy_text.pdf \\',copy_text= [\\'v\\'])\\n>>> tables [0].df\\nTip:Here’s how you can do the same with the command-line interface .\\n$ camelot lattice -copy v copy_text.pdf\\n36 Chapter 3. The User GuideCamelot Documentation, Release 0.11.0\\nSl. No. Name of\\nState/UTName of\\nDistrictDisease/\\nIllnessNo. of\\nCasesNo. of\\nDeathsDate\\nof start\\nof out-\\nbreakDate of\\nreport-\\ningCurrent\\nStatus...\\n1 Kerala Kollami.\\nFood\\nPoi-\\nson-\\ning19 0 31/12/13 03/01/14 Under\\ncontrol...\\n2 Maha-\\nrashtraBeedi.\\nDengue\\n&\\nChikun-\\ngunya\\ni11 0 03/01/14 04/01/14 Under\\ncontrol...\\n3 Odisha Kala-\\nhandiiii.\\nFood\\nPoi-\\nson-\\ning42 0 02/01/14 03/01/14 Under\\ncontrol...\\n4 West\\nBengalWest\\nMe-\\ndinipuriv.\\nAcute\\nDi-\\nar-\\nrhoeal\\nDis-\\nease145 0 04/01/14 05/01/14 Under\\ncontrol...\\n4 West\\nBengalBirb-\\nhumv.\\nFood\\nPoi-\\nson-\\ning199 0 31/12/13 31/12/13 Under\\ncontrol...\\n4 West\\nBengalHowrahvi.\\nVi-\\nral\\nHep-\\nati-\\ntis\\nA\\n&E85 0 26/12/13 27/12/13 Under\\nsurveil-\\nlance...\\n3.6. Advanced Usage 37Camelot Documentation, Release 0.11.0\\n3.6.14 Tweak layout generation\\nCamelot is built on top of PDFMiner’s functionality of grouping characters on a page into words and sentences. In\\nsome cases (such as #170 and #215), PDFMiner can group characters that should belong to the same sentence into\\nseparate sentences.\\nTo deal with such cases, you can tweak PDFMiner’s LAParams kwargs to improve layout generation, by passing the\\nkeyword arguments as a dict using layout_kwargs inread_pdf() . To know more about the parameters you can\\ntweak, you can check out PDFMiner docs.\\n>>> tables = camelot.read_pdf (\\'foo.pdf \\',layout_kwargs= {\\'detect_vertical \\': False})\\n3.6.15 Use alternate image conversion backends\\nWhenusingthe Latticeflavor,Camelotuses ghostscript toconvertPDFpagestoimagesforlinerecognition. Ifyou\\nface installation issues with ghostscript , you can use an alternate image conversion backend called poppler. You\\ncan specify which image conversion backend you want to use with:\\n>>> tables = camelot.read_pdf (filename ,backend=\"ghostscript\" )# default\\n>>> tables = camelot.read_pdf (filename ,backend=\"poppler\" )\\nNote:ghostscript will be replaced by poppler as the default image conversion backend in v0.12.0.\\nIf you face issues with both ghostscript andpoppler, you can supply your own image conversion backend:\\n>>> classConversionBackend (object ):\\n>>> defconvert (pdf_path ,png_path ):\\n>>> # read pdf page from pdf_path\\n>>> # convert pdf page to image\\n>>> # write image to png_path\\n>>> pass\\n>>>\\n>>> tables = camelot.read_pdf (filename ,backend=ConversionBackend ())\\n3.7 Frequently Asked Questions\\nThis part of the documentation answers some common questions. To add questions, please open an issue here.\\n3.7.1 Does Camelot work with image-based PDFs?\\nNo,Camelotonlyworkswithtext-basedPDFsandnotscanneddocuments. (AsTabulaexplains,“Ifyoucanclickand\\ndrag to select text in your table in a PDF viewer, then your PDF is text-based”.)\\n38 Chapter 3. The User GuideCamelot Documentation, Release 0.11.0\\n3.7.2 How to reduce memory usage for long PDFs?\\nDuring table extraction from long PDF documents, RAM usage can grow significantly.\\nAsimpleworkaroundistodividetheextractionintochunks,andsaveextracteddatatodiskattheendofeverychunk.\\nFor more details, check out this code snippet from @anakin87:\\nimportcamelot\\ndefchunks (l,n):\\n\"\"\"Yield successive n-sized chunks from l.\"\"\"\\nforiinrange (0,len(l),n):\\nyieldl[i:i + n ]\\ndefextract_tables (filepath ,pages ,chunks=50 ,export_path=\".\" ,params= {}):\\n\"\"\"\\nDivide the extraction work into n chunks. At the end of every chunk,\\nsave data on disk and free RAM.\\nfilepath : str\\nFilepath or URL of the PDF file.\\npages : str, optional (default: \\'1\\')\\nComma-separated page numbers.\\nExample: \\'1,3,4 \\'or \\'1,4-end \\'or \\'all \\'.\\n\"\"\"\\n# get list of pages from camelot.handlers.PDFHandler\\nhandler = camelot.handlers.PDFHandler (filepath )\\npage_list = handler._get_pages (filepath ,pages=pages )\\n# chunk pages list\\npage_chunks = list (chunks (page_list ,chunks ))\\n# extraction and export\\nforchunk inpage_chunks :\\npages_string = str (chunk ).replace (\"[\",\"\").replace (\"]\",\"\")\\ntables = camelot.read_pdf (filepath ,pages=pages_string ,**params )\\ntables.export (f\"{export_path}/tables.csv\" )\\n3.7.3 How can I supply my own image conversion backend to Lattice?\\nWhenusingthe Latticeflavor,youcansupplyyourown imageconversionbackend bycreatingaclasswitha convert\\nmethod as follows:\\n>>> classConversionBackend (object ):\\n>>> defconvert (pdf_path ,png_path ):\\n>>> # read pdf page from pdf_path\\n>>> # convert pdf page to image\\n>>> # write image to png_path\\n>>> pass\\n(continues on next page)\\n3.7. Frequently Asked Questions 39Camelot Documentation, Release 0.11.0\\n(continued from previous page)\\n>>>\\n>>> tables = camelot.read_pdf (filename ,backend=ConversionBackend ())\\n3.8 Command-Line Interface\\nCamelot comes with a command-line interface.\\nYoucanprintthehelpfortheinterfacebytyping camelot --help inyourfavoriteterminalprogram,asshownbelow.\\nFurthermore, you can print the help for each command by typing camelot <command> --help . Try it out!\\nUsage :camelot [OPTIONS ]COMMAND [ARGS ]...\\nCamelot :PDF Table Extraction forHumans\\nOptions :\\n--version Show the version andexit.\\n-q,--quiet TEXT Suppress logs andwarnings.\\n-p,--pages TEXT Comma-separated page numbers. Example :1,3,4\\nor1,4-end.\\n-pw,--password TEXT Password fordecryption.\\n-o,--output TEXT Output file path.\\n-f,--format [csv|json|excel|html ]\\nOutput file format.\\n-z,--zip Create ZIP archive.\\n-split ,--split_text Split text that spans across multiple cells.\\n-flag ,--flag_size Flag text based on font size. Useful to\\ndetect super/subscripts.\\n-strip ,--strip_text Characters that should be stripped froma\\nstring before assigning it to a cell.\\n-M,--margins <FLOAT FLOAT FLOAT>...\\nPDFMiner char_margin ,line_margin and\\nword_margin.\\n--help Show this message andexit.\\nCommands :\\nlattice Use lines between text to parse the table.\\nstream Use spaces between text to parse the table.\\n40 Chapter 3. The User GuideCHAPTER\\nFOUR\\nTHE API DOCUMENTATION/GUIDE\\nIf you are looking for information on a specific function, class, or method, this part of the documentation is for you.\\n4.1 API Reference\\n4.1.1 Main Interface\\ncamelot. read_pdf (filepath: str | IO | Path ,pages= /quotesingle.ts11/quotesingle.ts1,password=None ,flavor= /quotesingle.ts1lattice /quotesingle.ts1,suppress_stdout=False ,\\nlayout_kwargs=None ,**kwargs)\\nRead PDF and return extracted tables.\\nNote: kwargs annotated with ^ can only be used with flavor=’stream’ and kwargs annotated with * can only be\\nused with flavor=’lattice’.\\nParameters\\n•filepath (str, Path, IO ) – Filepath or URL of the PDF file.\\n•pages(str, optional (default: \\'1\\'))–Comma-separatedpagenumbers. Example:\\n‘1,3,4’ or ‘1,4-end’ or ‘all’.\\n•password (str, optional (default: None) ) – Password for decryption.\\n•flavor(str (default: \\'lattice \\'))–Theparsingmethodtouse(‘lattice’or‘stream’).\\nLattice is used by default.\\n•suppress_stdout (bool, optional (default: True) ) – Print all logs and warn-\\nings.\\n•layout_kwargs (dict, optional (default: {}) ) – A dict of\\npdfminer.layout.LAParams kwargs.\\n•table_areas (list, optional (default: None) ) – List of table area strings of the\\nformx1,y1,x2,y2where(x1,y1)->left-topand(x2,y2)->right-bottominPDFcoordinate\\nspace.\\n•columns^ (list, optional (default: None) )–Listofcolumnx-coordinatesstrings\\nwhere the coordinates are comma-separated.\\n•split_text (bool, optional (default: False) )–Splittextthatspansacrossmul-\\ntiple cells.\\n•flag_size (bool, optional (default: False) )–Flagtextbasedonfontsize. Use-\\nful to detect super/subscripts. Adds <s></s> around flagged text.\\n41Camelot Documentation, Release 0.11.0\\n•strip_text (str, optional (default: \\'\\')) – Characters that should be stripped\\nfrom a string before assigning it to a cell.\\n•row_tol^ (int, optional (default: 2) )–Toleranceparameterusedtocombinetext\\nvertically, to generate rows.\\n•column_tol^ (int, optional (default: 0) )–Toleranceparameterusedtocombine\\ntext horizontally, to generate columns.\\n•process_background* (bool, optional (default: False) ) – Process back-\\nground lines.\\n•line_scale* (int, optional (default: 15) ) – Line size scaling factor. The larger\\nthevaluethesmallerthedetectedlines. Makingitverylargewillleadtotextbeingdetected\\nas lines.\\n•copy_text* (list, optional (default: None) )–{‘h’,‘v’}Directioninwhichtext\\nin a spanning cell will be copied over.\\n•shift_text* (list, optional (default: [ \\'l\\', \\'t\\'])) – {‘l’, ‘r’, ‘t’, ‘b’} Direction\\nin which text in a spanning cell will flow.\\n•line_tol* (int, optional (default: 2) ) – Tolerance parameter used to merge\\nclose vertical and horizontal lines.\\n•joint_tol* (int, optional (default: 2) ) – Tolerance parameter used to decide\\nwhether the detected lines and points lie close to each other.\\n•threshold_blocksize* (int, optional (default: 15) ) – Size of a pixel neigh-\\nborhood that is used to calculate a threshold value for the pixel: 3, 5, 7, and so on.\\nFor more information, refer OpenCV’s adaptiveThreshold.\\n•threshold_constant* (int, optional (default: -2) )–Constantsubtractedfrom\\nthe mean or weighted mean. Normally, it is positive but may be zero or negative as well.\\nFor more information, refer OpenCV’s adaptiveThreshold.\\n•iterations* (int, optional (default: 0) )–Numberoftimesforerosion/dilation\\nis applied.\\nFor more information, refer OpenCV’s dilate.\\n•resolution* (int, optional (default: 300) ) – Resolution used for PDF to PNG\\nconversion.\\nReturns\\ntables\\nReturn type\\ncamelot.core.TableList\\n42 Chapter 4. The API Documentation/GuideCamelot Documentation, Release 0.11.0\\n4.1.2 Lower-Level Classes\\nclasscamelot.handlers. PDFHandler (filepath: str | IO | Path ,pages= /quotesingle.ts11/quotesingle.ts1,password=None )\\nHandles all operations like temp directory creation, splitting file into single page PDFs, parsing each PDF and\\nthen removing the temp directory.\\nParameters\\n•filepath (str) – Filepath or URL of the PDF file.\\n•pages(str, optional (default: \\'1\\'))–Comma-separatedpagenumbers. Example:\\n‘1,3,4’ or ‘1,4-end’ or ‘all’.\\n•password (str, optional (default: None) ) – Password for decryption.\\nparse(flavor= /quotesingle.ts1lattice /quotesingle.ts1,suppress_stdout=False ,layout_kwargs=None ,**kwargs)\\nExtracts tables by calling parser.get_tables on all single page PDFs.\\nParameters\\n•flavor(str (default: \\'lattice \\')) – The parsing method to use (‘lattice’ or\\n‘stream’). Lattice is used by default.\\n•suppress_stdout (str (default: False) ) – Suppress logs and warnings.\\n•layout_kwargs (dict, optional (default: {}) ) – A dict of\\npdfminer.layout.LAParams kwargs.\\n•kwargs(dict) – See camelot.read_pdf kwargs.\\nReturns\\ntables– List of tables found in PDF.\\nReturn type\\ncamelot.core.TableList\\nclasscamelot.parsers. Stream(table_regions=None ,table_areas=None ,columns=None ,split_text=False ,\\nflag_size=False ,strip_text= /quotesingle.ts1/quotesingle.ts1,edge_tol=50 ,row_tol=2 ,column_tol=0 ,\\n**kwargs)\\nStream method of parsing looks for spaces between text to parse the table.\\nIf you want to specify columns when specifying multiple table areas, make sure that the length of both lists are\\nequal.\\nParameters\\n•table_regions (list, optional (default: None) )–Listofpageregionsthatmay\\ncontaintablesoftheformx1,y1,x2,y2where(x1,y1)->left-topand(x2,y2)->right-bottom\\nin PDF coordinate space.\\n•table_areas (list, optional (default: None) ) – List of table area strings of the\\nformx1,y1,x2,y2where(x1,y1)->left-topand(x2,y2)->right-bottominPDFcoordinate\\nspace.\\n•columns (list, optional (default: None) ) – List of column x-coordinates strings\\nwhere the coordinates are comma-separated.\\n•split_text (bool, optional (default: False) )–Splittextthatspansacrossmul-\\ntiple cells.\\n•flag_size (bool, optional (default: False) )–Flagtextbasedonfontsize. Use-\\nful to detect super/subscripts. Adds <s></s> around flagged text.\\n4.1. API Reference 43Camelot Documentation, Release 0.11.0\\n•strip_text (str, optional (default: \\'\\')) – Characters that should be stripped\\nfrom a string before assigning it to a cell.\\n•edge_tol (int, optional (default: 50) ) – Tolerance parameter for extending\\ntextedges vertically.\\n•row_tol (int, optional (default: 2) )–Toleranceparameterusedtocombinetext\\nvertically, to generate rows.\\n•column_tol (int, optional (default: 0) ) – Tolerance parameter used to combine\\ntext horizontally, to generate columns.\\nclasscamelot.parsers. Lattice(table_regions=None ,table_areas=None ,process_background=False ,\\nline_scale=15 ,copy_text=None ,shift_text=[ /quotesingle.ts1l/quotesingle.ts1,/quotesingle.ts1t/quotesingle.ts1],split_text=False ,\\nflag_size=False ,strip_text= /quotesingle.ts1/quotesingle.ts1,line_tol=2 ,joint_tol=2 ,\\nthreshold_blocksize=15 ,threshold_constant=-2 ,iterations=0 ,\\nresolution=300 ,backend= /quotesingle.ts1ghostscript /quotesingle.ts1,**kwargs)\\nLattice method of parsing looks for lines between text to parse the table.\\nParameters\\n•table_regions (list, optional (default: None) )–Listofpageregionsthatmay\\ncontaintablesoftheformx1,y1,x2,y2where(x1,y1)->left-topand(x2,y2)->right-bottom\\nin PDF coordinate space.\\n•table_areas (list, optional (default: None) ) – List of table area strings of the\\nformx1,y1,x2,y2where(x1,y1)->left-topand(x2,y2)->right-bottominPDFcoordinate\\nspace.\\n•process_background (bool, optional (default: False) ) – Process background\\nlines.\\n•line_scale (int, optional (default: 15) ) – Line size scaling factor. The larger\\nthevaluethesmallerthedetectedlines. Makingitverylargewillleadtotextbeingdetected\\nas lines.\\n•copy_text (list, optional (default: None) ) – {‘h’, ‘v’} Direction in which text\\nin a spanning cell will be copied over.\\n•shift_text (list, optional (default: [ \\'l\\', \\'t\\']))–{‘l’,‘r’,‘t’,‘b’}Directionin\\nwhich text in a spanning cell will flow.\\n•split_text (bool, optional (default: False) )–Splittextthatspansacrossmul-\\ntiple cells.\\n•flag_size (bool, optional (default: False) )–Flagtextbasedonfontsize. Use-\\nful to detect super/subscripts. Adds <s></s> around flagged text.\\n•strip_text (str, optional (default: \\'\\')) – Characters that should be stripped\\nfrom a string before assigning it to a cell.\\n•line_tol (int, optional (default: 2) )–Toleranceparameterusedtomergeclose\\nvertical and horizontal lines.\\n•joint_tol (int, optional (default: 2) ) – Tolerance parameter used to decide\\nwhether the detected lines and points lie close to each other.\\n•threshold_blocksize (int, optional (default: 15) )–Sizeofapixelneighbor-\\nhood that is used to calculate a threshold value for the pixel: 3, 5, 7, and so on.\\nFor more information, refer OpenCV’s adaptiveThreshold.\\n44 Chapter 4. The API Documentation/GuideCamelot Documentation, Release 0.11.0\\n•threshold_constant (int, optional (default: -2) ) – Constant subtracted from\\nthe mean or weighted mean. Normally, it is positive but may be zero or negative as well.\\nFor more information, refer OpenCV’s adaptiveThreshold.\\n•iterations (int, optional (default: 0) ) – Number of times for erosion/dilation\\nis applied.\\nFor more information, refer OpenCV’s dilate.\\n•resolution (int, optional (default: 300) ) – Resolution used for PDF to PNG\\nconversion.\\n4.1.3 Lower-Lower-Level Classes\\nclasscamelot.core. TableList (tables)\\nDefines a list of camelot.core.Table objects. Each table can be accessed using its index.\\nn\\nNumber of tables in the list.\\nType\\nint\\nexport(path,f= /quotesingle.ts1csv /quotesingle.ts1,compress=False )\\nExports the list of tables to specified file format.\\nParameters\\n•path(str) – Output filepath.\\n•f(str) – File format. Can be csv, excel, html, json, markdown or sqlite.\\n•compress (bool) – Whether or not to add files to a ZIP archive.\\nclasscamelot.core. Table(cols,rows)\\nDefines a table with coordinates relative to a left-bottom origin. (PDF coordinate space)\\nParameters\\n•cols(list) – List of tuples representing column x-coordinates in increasing order.\\n•rows(list) – List of tuples representing row y-coordinates in decreasing order.\\ndf\\nType\\npandas.DataFrame\\nshape\\nShape of the table.\\nType\\ntuple\\naccuracy\\nAccuracy with which text was assigned to the cell.\\nType\\nfloat\\n4.1. API Reference 45Camelot Documentation, Release 0.11.0\\nwhitespace\\nPercentage of whitespace in the table.\\nType\\nfloat\\norder\\nTable number on PDF page.\\nType\\nint\\npage\\nPDF page number.\\nType\\nint\\nproperty data\\nReturns two-dimensional list of strings in table.\\nproperty parsing_report\\nReturns a parsing report with %accuracy, %whitespace, table number on page and page number.\\nset_all_edges ()\\nSets all table edges to True.\\nset_border ()\\nSets table border edges to True.\\nset_edges (vertical,horizontal ,joint_tol=2 )\\nSets a cell’s edges to True depending on whether the cell’s coordinates overlap with the line’s coordinates\\nwithin a tolerance.\\nParameters\\n•vertical (list) – List of detected vertical lines.\\n•horizontal (list) – List of detected horizontal lines.\\nset_span ()\\nSetsacell’shspanorvspanattributetoTruedependingonwhetherthecellspanshorizontallyorvertically.\\nto_csv(path,**kwargs)\\nWrites Table to a comma-separated values (csv) file.\\nFor kwargs, check pandas.DataFrame.to_csv() .\\nParameters\\npath(str) – Output filepath.\\nto_excel (path,**kwargs)\\nWrites Table to an Excel file.\\nFor kwargs, check pandas.DataFrame.to_excel() .\\nParameters\\npath(str) – Output filepath.\\n46 Chapter 4. The API Documentation/GuideCamelot Documentation, Release 0.11.0\\nto_html(path,**kwargs)\\nWrites Table to an HTML file.\\nFor kwargs, check pandas.DataFrame.to_html() .\\nParameters\\npath(str) – Output filepath.\\nto_json(path,**kwargs)\\nWrites Table to a JSON file.\\nFor kwargs, check pandas.DataFrame.to_json() .\\nParameters\\npath(str) – Output filepath.\\nto_markdown (path,**kwargs)\\nWrites Table to a Markdown file.\\nFor kwargs, check pandas.DataFrame.to_markdown() .\\nParameters\\npath(str) – Output filepath.\\nto_sqlite (path,**kwargs)\\nWrites Table to sqlite database.\\nFor kwargs, check pandas.DataFrame.to_sql() .\\nParameters\\npath(str) – Output filepath.\\nclasscamelot.core. Cell(x1,y1,x2,y2)\\nDefines a cell in a table with coordinates relative to a left-bottom origin. (PDF coordinate space)\\nParameters\\n•x1(float) – x-coordinate of left-bottom point.\\n•y1(float) – y-coordinate of left-bottom point.\\n•x2(float) – x-coordinate of right-top point.\\n•y2(float) – y-coordinate of right-top point.\\nlb\\nTuple representing left-bottom coordinates.\\nType\\ntuple\\nlt\\nTuple representing left-top coordinates.\\nType\\ntuple\\nrb\\nTuple representing right-bottom coordinates.\\nType\\ntuple\\n4.1. API Reference 47Camelot Documentation, Release 0.11.0\\nrt\\nTuple representing right-top coordinates.\\nType\\ntuple\\nleft\\nWhether or not cell is bounded on the left.\\nType\\nbool\\nright\\nWhether or not cell is bounded on the right.\\nType\\nbool\\ntop\\nWhether or not cell is bounded on the top.\\nType\\nbool\\nbottom\\nWhether or not cell is bounded on the bottom.\\nType\\nbool\\nhspan\\nWhether or not cell spans horizontally.\\nType\\nbool\\nvspan\\nWhether or not cell spans vertically.\\nType\\nbool\\ntext\\nText assigned to cell.\\nType\\nstring\\n48 Chapter 4. The API Documentation/GuideCHAPTER\\nFIVE\\nTHE CONTRIBUTOR GUIDE\\nIf you want to contribute to the project, this part of the documentation is for you.\\n5.1 Contributor’s Guide\\nIf you’re reading this, you’re probably looking to contributing to Camelot. Time is the only real currency , and the fact\\nthat you’re considering spending some here is verygenerous of you. Thank you very much!\\nThis document will help you get started with contributing documentation, code, testing and filing issues. If you have\\nany questions, feel free to reach out to Vinayak Mehta, the author and maintainer.\\n5.1.1 Code Of Conduct\\nThe following quote sums up the Code Of Conduct .\\nBe cordial or be on your way .–Kenneth Reitz\\nKenneth Reitz has also written an essay on this topic, which you should read.\\nAstheRequestsCodeOfConductstates, allcontributionsarewelcome ,aslongaseveryoneinvolvedistreatedwith\\nrespect.\\n5.1.2 Your first contribution\\nAgreatwaytostartcontributingtoCamelotistopickanissuetaggedwiththehelpwantedorthegoodfirstissuetags.\\nIf you’re unable to find a good first issue, feel free to contact the maintainer.\\n5.1.3 Setting up a development environment\\nTo install the dependencies needed for development, you can use pip:\\n$ pip install \"camelot-py[dev]\"\\nAlternatively, you can clone the project repository, and install using pip:\\n$ pip install \".[dev]\"\\n49Camelot Documentation, Release 0.11.0\\n5.1.4 Pull Requests\\nSubmit a pull request\\nThe preferred workflow for contributing to Camelot is to fork the project repository on GitHub, clone, develop on a\\nbranch and then finally submit a pull request. Here are the steps:\\n1. Fork the project repository. Click on the ‘Fork’ button near the top of the page. This creates a copy of the code\\nunder your account on the GitHub.\\n2. Clone your fork of Camelot from your GitHub account:\\n$ git clone https://www.github.com/[username]/camelot\\n3. Create a branch to hold your changes:\\n$ git checkout -b my-feature\\nAlwaysbranchoutfrom mastertoworkonyourcontribution. It’sgoodpracticetoneverworkonthe masterbranch!\\nNote:git stash is a great way to save the work that you haven’t committed yet, to move between branches.\\n4. Work on your contribution. Add changed files using git add and thengit commit them:\\n$ git add modified_files\\n$ git commit\\n5. Finally, push them to your GitHub fork:\\n$ git push -u origin my-feature\\nNow it’s time to go to the your fork of Camelot and create a pull request! You can follow these instructions to do the\\nsame.\\nWork on your pull request\\nWe recommend that your pull request complies with the following guidelines:\\n•Make sure your code follows pep8.\\n•Incaseyourpullrequestcontainsfunctiondocstrings,makesureyoufollowthenumpydocformat. Allfunction\\ndocstrings in Camelot follow this format. Following the format will make sure that the API documentation is\\ngenerated flawlessly.\\n•Make sure your commit messages follow the seven rules of a great git commit message:\\n–Separate subject from body with a blank line\\n–Limit the subject line to 50 characters\\n–Capitalize the subject line\\n–Do not end the subject line with a period\\n–Use the imperative mood in the subject line\\n–Wrap the body at 72 characters\\n–Use the body to explain what and why vs. how\\n50 Chapter 5. The Contributor GuideCamelot Documentation, Release 0.11.0\\n•Please prefix your title of your pull request with [MRG] (Ready for Merge), if the contribution is complete and\\nreadyforadetailedreview. Anincompletepullrequest’stitleshouldbeprefixedwith[WIP](toindicateawork\\nin progress), and changed to [MRG] when it’s complete. A good task list in the PR description will ensure that\\nother people get a fair idea of what it proposes to do, which will also increase collaboration.\\n•If contributing new functionality, make sure that you add a unit test for it, while making sure that all previous\\ntests pass. Camelot uses pytest for testing. Tests can be run using:\\n$ python setup.py test\\n5.1.5 Writing Documentation\\nWritingdocumentation,functiondocstrings,examplesandtutorialsisagreatwaytostartcontributingtoopen-source\\nsoftware! The documentation is present inside the docs/directory of the source code repository.\\nThe documentation is written in reStructuredText, with Sphinx used to generate these lovely HTML files that you’re\\ncurrently reading (unless you’re reading this on GitHub). You can edit the documentation using any text editor and\\nthen generate the HTML output by running make html in thedocs/directory.\\nThefunctiondocstringsarewrittenusingthenumpydocextensionforSphinx. Makesureyoucheckouthowitsformat\\nguidelines before you start writing one.\\n5.1.6 Filing Issues\\nWe use GitHub issues to keep track of all issues and pull requests. Before opening an issue (which asks a question or\\nreports a bug), please use GitHub search to look for existing issues (both open and closed) that may be similar.\\nQuestions\\nPleasedon’tuseGitHubissuesforsupportquestions. AbetterplaceforthemwouldbeStackOverflow. Makesureyou\\ntag them using the python-camelot tag.\\nBug Reports\\nIn bug reports, make sure you include:\\n•Your operating system type and Python version number, along with the version numbers of NumPy, OpenCV\\nand Camelot. You can use the following code snippet to find this information:\\nimportplatform ;print (platform.platform ())\\nimportsys;print (\\'Python \\',sys.version )\\nimportnumpy ;print (\\'NumPy \\',numpy.__version__ )\\nimportcv2;print (\\'OpenCV \\',cv2.__version__ )\\nimportcamelot ;print (\\'Camelot \\',camelot.__version__ )\\n•Thecompletetraceback. Justaddingtheexceptionmessageorapartofthetracebackwon’thelpusfixyourissue\\nsooner.\\n•Steps to reproduce the bug, using code snippets. See Creating and highlighting code blocks.\\n•AlinktothePDFdocumentthatyouweretryingtoextracttablesfrom,tellinguswhatyouexpectedthecodeto\\ndo and what actually happened.\\n5.1. Contributor’s Guide 51Camelot Documentation, Release 0.11.0\\n52 Chapter 5. The Contributor GuidePYTHON MODULE INDEX\\nc\\ncamelot, 41\\n53Camelot Documentation, Release 0.11.0\\n54 Python Module IndexINDEX\\nA\\naccuracy (camelot.core.Table attribute ), 45\\nB\\nbottom(camelot.core.Cell attribute ), 48\\nC\\ncamelot\\nmodule, 41\\nCell(class in camelot.core ), 47\\nD\\ndata(camelot.core.Table property ), 46\\ndf(camelot.core.Table attribute ), 45\\nE\\nexport() (camelot.core.TableList method ), 45\\nH\\nhspan(camelot.core.Cell attribute ), 48\\nL\\nLattice (class in camelot.parsers ), 44\\nlb(camelot.core.Cell attribute ), 47\\nleft(camelot.core.Cell attribute ), 48\\nlt(camelot.core.Cell attribute ), 47\\nM\\nmodule\\ncamelot, 41\\nN\\nn(camelot.core.TableList attribute ), 45\\nO\\norder(camelot.core.Table attribute ), 46\\nP\\npage(camelot.core.Table attribute ), 46\\nparse() (camelot.handlers.PDFHandler method ), 43parsing_report (camelot.core.Table property ), 46\\nPDFHandler (class in camelot.handlers ), 43\\nR\\nrb(camelot.core.Cell attribute ), 47\\nread_pdf() (in module camelot ), 41\\nright(camelot.core.Cell attribute ), 48\\nrt(camelot.core.Cell attribute ), 47\\nS\\nset_all_edges() (camelot.core.Table method ), 46\\nset_border() (camelot.core.Table method ), 46\\nset_edges() (camelot.core.Table method ), 46\\nset_span() (camelot.core.Table method ), 46\\nshape(camelot.core.Table attribute ), 45\\nStream(class in camelot.parsers ), 43\\nT\\nTable(class in camelot.core ), 45\\nTableList (class in camelot.core ), 45\\ntext(camelot.core.Cell attribute ), 48\\nto_csv() (camelot.core.Table method ), 46\\nto_excel() (camelot.core.Table method ), 46\\nto_html() (camelot.core.Table method ), 46\\nto_json() (camelot.core.Table method ), 47\\nto_markdown() (camelot.core.Table method ), 47\\nto_sqlite() (camelot.core.Table method ), 47\\ntop(camelot.core.Cell attribute ), 48\\nV\\nvspan(camelot.core.Cell attribute ), 48\\nW\\nwhitespace (camelot.core.Table attribute ), 45\\n55'"
      ]
     },
     "execution_count": 16,
     "metadata": {},
     "output_type": "execute_result"
    }
   ],
   "source": [
    "text"
   ]
  },
  {
   "cell_type": "markdown",
   "id": "a34703af",
   "metadata": {},
   "source": [
    "## Tabula-py"
   ]
  },
  {
   "cell_type": "code",
   "execution_count": null,
   "id": "83df3e89",
   "metadata": {},
   "outputs": [],
   "source": [
    "!pip install tabula-py"
   ]
  },
  {
   "cell_type": "code",
   "execution_count": null,
   "id": "77bc254b",
   "metadata": {},
   "outputs": [],
   "source": [
    "import tabula"
   ]
  },
  {
   "cell_type": "code",
   "execution_count": null,
   "id": "151ea376",
   "metadata": {},
   "outputs": [],
   "source": [
    "#tabula.read_pdf(input_path=path, output_format='dataframe')"
   ]
  },
  {
   "cell_type": "markdown",
   "id": "6c994a80",
   "metadata": {},
   "source": [
    "## Camelot"
   ]
  },
  {
   "cell_type": "code",
   "execution_count": 17,
   "id": "75627660",
   "metadata": {},
   "outputs": [],
   "source": [
    "import camelot"
   ]
  },
  {
   "cell_type": "code",
   "execution_count": 18,
   "id": "fead87e1",
   "metadata": {},
   "outputs": [
    {
     "data": {
      "text/plain": [
       "'/usr/local/lib/libgs.dylib'"
      ]
     },
     "execution_count": 18,
     "metadata": {},
     "output_type": "execute_result"
    }
   ],
   "source": [
    "from ctypes.util import find_library\n",
    "find_library(\"gs\")"
   ]
  },
  {
   "cell_type": "code",
   "execution_count": 19,
   "id": "38b05e2c",
   "metadata": {},
   "outputs": [],
   "source": [
    "#!pip install opencv-python\n",
    "# !pip install ghostscript"
   ]
  },
  {
   "cell_type": "code",
   "execution_count": 31,
   "id": "17f69052",
   "metadata": {},
   "outputs": [],
   "source": [
    "path = '/Users/user/Downloads/camelot.pdf'\n",
    "path2 = \"/Users/user/Downloads/A_review_of_semantic_segmentation_using_deep_neura.pdf\""
   ]
  },
  {
   "cell_type": "code",
   "execution_count": 21,
   "id": "5856e5c4",
   "metadata": {},
   "outputs": [
    {
     "name": "stderr",
     "output_type": "stream",
     "text": [
      "/opt/anaconda3/envs/table_extra/lib/python3.8/site-packages/camelot/parsers/lattice.py:416: UserWarning: No tables found on page-2\n",
      "  warnings.warn(\n"
     ]
    }
   ],
   "source": [
    "tables = camelot.read_pdf(filepath=path,\n",
    "                         pages='all',\n",
    "                          process_background=True,\n",
    "                         )"
   ]
  },
  {
   "cell_type": "markdown",
   "id": "be0a271e",
   "metadata": {},
   "source": [
    "- the above code reads the pdf and extract the tables to an object (TableList) called tables. We can get everything we need fromt this object."
   ]
  },
  {
   "cell_type": "code",
   "execution_count": 22,
   "id": "477374a6",
   "metadata": {},
   "outputs": [
    {
     "data": {
      "text/plain": [
       "14"
      ]
     },
     "execution_count": 22,
     "metadata": {},
     "output_type": "execute_result"
    }
   ],
   "source": [
    "tables.n"
   ]
  },
  {
   "cell_type": "code",
   "execution_count": 23,
   "id": "4003859d",
   "metadata": {},
   "outputs": [
    {
     "data": {
      "text/plain": [
       "<Table shape=(1, 2)>"
      ]
     },
     "execution_count": 23,
     "metadata": {},
     "output_type": "execute_result"
    }
   ],
   "source": [
    "tables[0]"
   ]
  },
  {
   "cell_type": "code",
   "execution_count": 26,
   "id": "a0e62340",
   "metadata": {},
   "outputs": [
    {
     "name": "stdout",
     "output_type": "stream",
     "text": [
      "{'accuracy': 100.0, 'whitespace': 50.0, 'order': 1, 'page': 5}\n"
     ]
    }
   ],
   "source": [
    "print(tables[0].parsing_report)"
   ]
  },
  {
   "cell_type": "code",
   "execution_count": 27,
   "id": "71667b20",
   "metadata": {},
   "outputs": [
    {
     "data": {
      "text/html": [
       "<div>\n",
       "<style scoped>\n",
       "    .dataframe tbody tr th:only-of-type {\n",
       "        vertical-align: middle;\n",
       "    }\n",
       "\n",
       "    .dataframe tbody tr th {\n",
       "        vertical-align: top;\n",
       "    }\n",
       "\n",
       "    .dataframe thead th {\n",
       "        text-align: right;\n",
       "    }\n",
       "</style>\n",
       "<table border=\"1\" class=\"dataframe\">\n",
       "  <thead>\n",
       "    <tr style=\"text-align: right;\">\n",
       "      <th></th>\n",
       "      <th>0</th>\n",
       "      <th>1</th>\n",
       "    </tr>\n",
       "  </thead>\n",
       "  <tbody>\n",
       "    <tr>\n",
       "      <th>0</th>\n",
       "      <td>} &gt;\\n&gt;&gt;&gt; import\\ncamelot\\n&gt;&gt;&gt; tables\\n= camelo...</td>\n",
       "      <td></td>\n",
       "    </tr>\n",
       "  </tbody>\n",
       "</table>\n",
       "</div>"
      ],
      "text/plain": [
       "                                                   0 1\n",
       "0  } >\\n>>> import\\ncamelot\\n>>> tables\\n= camelo...  "
      ]
     },
     "execution_count": 27,
     "metadata": {},
     "output_type": "execute_result"
    }
   ],
   "source": [
    "tables[0].df"
   ]
  },
  {
   "cell_type": "code",
   "execution_count": null,
   "id": "e8b912e8",
   "metadata": {},
   "outputs": [],
   "source": [
    "from camelot.plotting import PlotMethods\n",
    "#.plotting import plot\n",
    "\n",
    "# Your code here\n",
    "# plot_table(tables[0]).show()\n"
   ]
  },
  {
   "cell_type": "code",
   "execution_count": null,
   "id": "505d2b19",
   "metadata": {},
   "outputs": [],
   "source": [
    "tables[0].df\n",
    "#PlotMethods().grid"
   ]
  },
  {
   "cell_type": "markdown",
   "id": "261d32b6",
   "metadata": {},
   "source": [
    "• ‘grid’\n",
    "• ‘contour’ • ‘line’\n",
    "• ‘joint’\n",
    "• ‘textedge’\n"
   ]
  },
  {
   "cell_type": "code",
   "execution_count": null,
   "id": "ccd78567",
   "metadata": {},
   "outputs": [],
   "source": [
    "tables[4].df"
   ]
  },
  {
   "cell_type": "code",
   "execution_count": 29,
   "id": "c736b45c",
   "metadata": {},
   "outputs": [],
   "source": [
    "# table = camelot.read_pdf(path, pages='all', table_areas=[\"100,700, 500,100\"], flavor='stream')\n",
    "# table[0].df"
   ]
  },
  {
   "cell_type": "code",
   "execution_count": null,
   "id": "ae4c16ef",
   "metadata": {},
   "outputs": [],
   "source": [
    "# Use Camelot's visual inspection tool\n",
    "tables = camelot.read_pdf(path, flavor='lattice', pages='all', process_background=True, suppress_stdout=True)\n",
    "camelot.plot(tables[0]).show()\n"
   ]
  },
  {
   "cell_type": "code",
   "execution_count": 30,
   "id": "c6e51ed0",
   "metadata": {},
   "outputs": [
    {
     "name": "stderr",
     "output_type": "stream",
     "text": [
      "/var/folders/z1/ynpqzt4n2b9f6150_kxv0mhw0000gn/T/ipykernel_4208/2887118418.py:2: UserWarning: Matplotlib is currently using module://matplotlib_inline.backend_inline, which is a non-GUI backend, so cannot show the figure.\n",
      "  camelot.plot(tables[4], kind='text').show()\n"
     ]
    },
    {
     "data": {
      "image/png": "[encoded data removed]",
      "text/plain": [
       "<Figure size 640x480 with 1 Axes>"
      ]
     },
     "metadata": {},
     "output_type": "display_data"
    }
   ],
   "source": [
    "import matplotlib.pyplot as plt\n",
    "camelot.plot(tables[4], kind='text').show()"
   ]
  },
  {
   "cell_type": "code",
   "execution_count": null,
   "id": "01acadad",
   "metadata": {},
   "outputs": [],
   "source": [
    "#!pip install camelot-py\\[plot\\]"
   ]
  },
  {
   "cell_type": "code",
   "execution_count": null,
   "id": "1e16b74c",
   "metadata": {},
   "outputs": [],
   "source": [
    "#!pip install 'camelot-py[plot]'"
   ]
  },
  {
   "cell_type": "code",
   "execution_count": 32,
   "id": "f27d761e",
   "metadata": {},
   "outputs": [],
   "source": [
    "##pdf2\n",
    "tables = camelot.read_pdf(filepath=path2,\n",
    "                         pages='all',\n",
    "                          process_background=True,\n",
    "                         )"
   ]
  },
  {
   "cell_type": "code",
   "execution_count": 33,
   "id": "56e11d7a",
   "metadata": {},
   "outputs": [
    {
     "data": {
      "text/plain": [
       "1"
      ]
     },
     "execution_count": 33,
     "metadata": {},
     "output_type": "execute_result"
    }
   ],
   "source": [
    "tables.n"
   ]
  },
  {
   "cell_type": "code",
   "execution_count": 34,
   "id": "4725de97",
   "metadata": {},
   "outputs": [
    {
     "data": {
      "text/html": [
       "<div>\n",
       "<style scoped>\n",
       "    .dataframe tbody tr th:only-of-type {\n",
       "        vertical-align: middle;\n",
       "    }\n",
       "\n",
       "    .dataframe tbody tr th {\n",
       "        vertical-align: top;\n",
       "    }\n",
       "\n",
       "    .dataframe thead th {\n",
       "        text-align: right;\n",
       "    }\n",
       "</style>\n",
       "<table border=\"1\" class=\"dataframe\">\n",
       "  <thead>\n",
       "    <tr style=\"text-align: right;\">\n",
       "      <th></th>\n",
       "      <th>0</th>\n",
       "    </tr>\n",
       "  </thead>\n",
       "  <tbody>\n",
       "    <tr>\n",
       "      <th>0</th>\n",
       "      <td></td>\n",
       "    </tr>\n",
       "  </tbody>\n",
       "</table>\n",
       "</div>"
      ],
      "text/plain": [
       "  0\n",
       "0  "
      ]
     },
     "execution_count": 34,
     "metadata": {},
     "output_type": "execute_result"
    }
   ],
   "source": [
    "tables[0].df"
   ]
  },
  {
   "cell_type": "markdown",
   "id": "e7f72f85",
   "metadata": {},
   "source": [
    "## PYMULPDF"
   ]
  },
  {
   "cell_type": "code",
   "execution_count": 35,
   "id": "9d805096",
   "metadata": {},
   "outputs": [],
   "source": [
    "import fitz"
   ]
  },
  {
   "cell_type": "code",
   "execution_count": 36,
   "id": "48fe6927",
   "metadata": {},
   "outputs": [
    {
     "data": {
      "text/plain": [
       "Document('/Users/user/Downloads/camelot.pdf')"
      ]
     },
     "execution_count": 36,
     "metadata": {},
     "output_type": "execute_result"
    }
   ],
   "source": [
    "path = '/Users/user/Downloads/camelot.pdf'\n",
    "#create a document\n",
    "fitz.open(path)"
   ]
  },
  {
   "cell_type": "code",
   "execution_count": 46,
   "id": "d795a029",
   "metadata": {},
   "outputs": [
    {
     "name": "stdout",
     "output_type": "stream",
     "text": [
      "2 found on page 26 of /Users/user/Downloads/camelot.pdf\n",
      "[['Età dell’Assicuratoall’epoca del decesso', 'Misura % dimaggiorazione'],\n",
      " ['18-75', '1,00%'],\n",
      " ['76-80', '0,50%'],\n",
      " ['81 in poi', '0,10%']]\n",
      "2\n"
     ]
    }
   ],
   "source": [
    "import fitz\n",
    "from pprint import pprint\n",
    "\n",
    "doc = fitz.open(path) # open document\n",
    "page = doc[26] # get the 1st page of the document\n",
    "tabs = page.find_tables() # locate and extract any tables on page\n",
    "print(f\"{len(tabs.tables)} found on {page}\") # display number of found tables\n",
    "if tabs.tables:  # at least one table found?\n",
    "   pprint(tabs[1].extract())  # print content of first table\n",
    "print(len(tabs.tables))"
   ]
  },
  {
   "cell_type": "code",
   "execution_count": 43,
   "id": "adc2260b",
   "metadata": {},
   "outputs": [
    {
     "data": {
      "text/plain": [
       "1"
      ]
     },
     "execution_count": 43,
     "metadata": {},
     "output_type": "execute_result"
    }
   ],
   "source": [
    "len(tabs.tables)"
   ]
  },
  {
   "cell_type": "code",
   "execution_count": 3,
   "id": "6083d659",
   "metadata": {},
   "outputs": [],
   "source": [
    "from pprint import pprint"
   ]
  },
  {
   "cell_type": "code",
   "execution_count": 50,
   "id": "92b48e6f",
   "metadata": {},
   "outputs": [],
   "source": [
    "import os\n"
   ]
  },
  {
   "cell_type": "code",
   "execution_count": 72,
   "id": "95987e29",
   "metadata": {},
   "outputs": [
    {
     "data": {
      "text/plain": [
       "'./camelot.pdf'"
      ]
     },
     "execution_count": 72,
     "metadata": {},
     "output_type": "execute_result"
    }
   ],
   "source": [
    "os.path.abspath(path='')\n",
    "x = os.path.join(os.curdir, 'camelot.pdf')\n",
    "x"
   ]
  },
  {
   "cell_type": "code",
   "execution_count": 78,
   "id": "499fea7c",
   "metadata": {},
   "outputs": [
    {
     "ename": "AttributeError",
     "evalue": "module 'os' has no attribute 'get_path'",
     "output_type": "error",
     "traceback": [
      "\u001b[0;31m---------------------------------------------------------------------------\u001b[0m",
      "\u001b[0;31mAttributeError\u001b[0m                            Traceback (most recent call last)",
      "Cell \u001b[0;32mIn[78], line 1\u001b[0m\n\u001b[0;32m----> 1\u001b[0m \u001b[43mos\u001b[49m\u001b[38;5;241;43m.\u001b[39;49m\u001b[43mget_path\u001b[49m()\n",
      "\u001b[0;31mAttributeError\u001b[0m: module 'os' has no attribute 'get_path'"
     ]
    }
   ],
   "source": [
    "os."
   ]
  },
  {
   "cell_type": "code",
   "execution_count": 80,
   "id": "6b73018b",
   "metadata": {},
   "outputs": [],
   "source": [
    "import tempfile"
   ]
  },
  {
   "cell_type": "code",
   "execution_count": 103,
   "id": "a634a2cc",
   "metadata": {},
   "outputs": [
    {
     "data": {
      "text/plain": [
       "'/Users/user/Documents/Table_Extraction_Project/Table_Extraction_Project/camelot.pdf'"
      ]
     },
     "execution_count": 103,
     "metadata": {},
     "output_type": "execute_result"
    }
   ],
   "source": [
    "os.path.realpath('camelot.pdf')"
   ]
  },
  {
   "cell_type": "code",
   "execution_count": 104,
   "id": "e13f8cb4",
   "metadata": {},
   "outputs": [],
   "source": [
    "x='man'"
   ]
  },
  {
   "cell_type": "code",
   "execution_count": 105,
   "id": "2ae36a2d",
   "metadata": {},
   "outputs": [
    {
     "data": {
      "text/plain": [
       "'/var/folders/z1/ynpqzt4n2b9f6150_kxv0mhw0000gn/T/tmpgkttmf9i/man'"
      ]
     },
     "execution_count": 105,
     "metadata": {},
     "output_type": "execute_result"
    }
   ],
   "source": [
    "#print(tempfile.mkdtemp)\n",
    "os.path.join(tempfile.mkdtemp(), x)"
   ]
  },
  {
   "cell_type": "code",
   "execution_count": null,
   "id": "f1277018",
   "metadata": {},
   "outputs": [],
   "source": []
  },
  {
   "cell_type": "code",
   "execution_count": 79,
   "id": "67b0c42f",
   "metadata": {},
   "outputs": [
    {
     "ename": "AttributeError",
     "evalue": "module 'camelot' has no attribute 'pdf'",
     "output_type": "error",
     "traceback": [
      "\u001b[0;31m---------------------------------------------------------------------------\u001b[0m",
      "\u001b[0;31mAttributeError\u001b[0m                            Traceback (most recent call last)",
      "Cell \u001b[0;32mIn[79], line 1\u001b[0m\n\u001b[0;32m----> 1\u001b[0m doc \u001b[38;5;241m=\u001b[39m fitz\u001b[38;5;241m.\u001b[39mopen(\u001b[43mcamelot\u001b[49m\u001b[38;5;241;43m.\u001b[39;49m\u001b[43mpdf\u001b[49m)\n",
      "\u001b[0;31mAttributeError\u001b[0m: module 'camelot' has no attribute 'pdf'"
     ]
    }
   ],
   "source": [
    "doc = fitz.open('camelot.pdf')"
   ]
  },
  {
   "cell_type": "code",
   "execution_count": 48,
   "id": "5c209166",
   "metadata": {},
   "outputs": [
    {
     "name": "stdout",
     "output_type": "stream",
     "text": [
      "59\n",
      "***** 0 *****\n",
      "***** 1 *****\n",
      "***** 2 *****\n",
      "***** 3 *****\n",
      "***** 4 *****\n",
      "[[['Cycle\\nName',\n",
      "   'KI\\n(1/km)',\n",
      "   'Distance\\n(mi)',\n",
      "   'Percent Fuel Sav-\\nings',\n",
      "   '',\n",
      "   '',\n",
      "   ''],\n",
      "  ['',\n",
      "   '',\n",
      "   '',\n",
      "   'Improved Speed',\n",
      "   'Decreased Ac-\\ncel',\n",
      "   'Eliminate\\nStops',\n",
      "   'Decreased\\nIdle'],\n",
      "  ['2012_2', '3.30', '1.3', '5.9%', '9.5%', '29.2%', '17.4%'],\n",
      "  ['2145_1', '0.68', '11.2', '2.4%', '0.1%', '9.5%', '2.7%'],\n",
      "  ['4234_1', '0.59', '58.7', '8.5%', '1.3%', '8.5%', '3.3%'],\n",
      "  ['2032_2', '0.17', '57.8', '21.7%', '0.3%', '2.7%', '1.2%'],\n",
      "  ['4171_1', '0.07', '173.9', '58.1%', '1.6%', '2.1%', '0.5%']]]\n",
      "***** 5 *****\n",
      "***** 6 *****\n",
      "***** 7 *****\n",
      "***** 8 *****\n",
      "***** 9 *****\n",
      "***** 10 *****\n",
      "***** 11 *****\n",
      "***** 12 *****\n",
      "***** 13 *****\n",
      "***** 14 *****\n",
      "***** 15 *****\n",
      "***** 16 *****\n",
      "***** 17 *****\n",
      "***** 18 *****\n",
      "[[['Cycle\\nName',\n",
      "   'KI\\n(1/km)',\n",
      "   'Distance\\n(mi)',\n",
      "   'Percent Fuel Sav-\\nings',\n",
      "   '',\n",
      "   '',\n",
      "   ''],\n",
      "  ['',\n",
      "   '',\n",
      "   '',\n",
      "   'Improved Speed',\n",
      "   'Decreased Ac-\\ncel',\n",
      "   'Eliminate\\nStops',\n",
      "   'Decreased\\nIdle'],\n",
      "  ['2012_2', '3.30', '1.3', '5.9%', '9.5%', '29.2%', '17.4%'],\n",
      "  ['2145_1', '0.68', '11.2', '2.4%', '0.1%', '9.5%', '2.7%'],\n",
      "  ['4234_1', '0.59', '58.7', '8.5%', '1.3%', '8.5%', '3.3%'],\n",
      "  ['2032_2', '0.17', '57.8', '21.7%', '0.3%', '2.7%', '1.2%'],\n",
      "  ['4171_1', '0.07', '173.9', '58.1%', '1.6%', '2.1%', '0.5%']]]\n",
      "***** 19 *****\n",
      "***** 20 *****\n",
      "[[['State',\n",
      "   'Date',\n",
      "   'Halt\\nstations',\n",
      "   'Halt\\ndays',\n",
      "   'Persons directly\\nreached(in lakh)',\n",
      "   'Persons\\ntrained',\n",
      "   'Persons\\ncounseled',\n",
      "   'Persons\\ntestedfor HIV'],\n",
      "  ['Delhi', '1.12.2009', '8', '17', '1.29', '3,665', '2,409', '1,000'],\n",
      "  ['Ra-\\njasthan', '2.12.2009 to\\n19.12.2009', '', '', '', '', '', ''],\n",
      "  ['Gujarat',\n",
      "   '20.12.2009 to\\n3.1.2010',\n",
      "   '6',\n",
      "   '13',\n",
      "   '6.03',\n",
      "   '3,810',\n",
      "   '2,317',\n",
      "   '1,453'],\n",
      "  ['Maha-\\nrashtra',\n",
      "   '4.01.2010 to\\n1.2.2010',\n",
      "   '13',\n",
      "   '26',\n",
      "   '1.27',\n",
      "   '5,680',\n",
      "   '9,027',\n",
      "   '4,153'],\n",
      "  ['Kar-\\nnataka',\n",
      "   '2.2.2010 to\\n22.2.2010',\n",
      "   '11',\n",
      "   '19',\n",
      "   '1.80',\n",
      "   '5,741',\n",
      "   '3,658',\n",
      "   '3,183'],\n",
      "  ['Kerala',\n",
      "   '23.2.2010 to\\n11.3.2010',\n",
      "   '9',\n",
      "   '17',\n",
      "   '1.42',\n",
      "   '3,559',\n",
      "   '2,173',\n",
      "   '855'],\n",
      "  ['Total', '', '47', '92', '11.81', '22,455', '19,584', '10,644']]]\n",
      "***** 21 *****\n",
      "***** 22 *****\n",
      "***** 23 *****\n",
      "***** 24 *****\n",
      "***** 25 *****\n",
      "***** 26 *****\n",
      "[[['', 'One Withholding'],\n",
      "  ['Payroll Period', 'Allowance'],\n",
      "  ['Weekly', '$71.15'],\n",
      "  ['Biweekly', '142.31'],\n",
      "  ['Semimonthly', '154.17'],\n",
      "  ['Monthly', '308.33'],\n",
      "  ['Quarterly', '925.00'],\n",
      "  ['Semiannually', '1,850.00'],\n",
      "  ['Annually', '3,700.00'],\n",
      "  ['Daily or Miscellaneous', '14.23'],\n",
      "  ['(each day of the payroll period)', '']],\n",
      " [['Età dell’Assicuratoall’epoca del decesso', 'Misura % dimaggiorazione'],\n",
      "  ['18-75', '1,00%'],\n",
      "  ['76-80', '0,50%'],\n",
      "  ['81 in poi', '0,10%']]]\n",
      "***** 27 *****\n",
      "[[['...', '...', '...', '...', '...', '...', '...', '...', '...', '...'],\n",
      "  ['LICENSE', '', '', '', 'PREMISE', '', '', '', '', ''],\n",
      "  ['NUMBER TYPE DBA\\nNAME',\n",
      "   '',\n",
      "   '',\n",
      "   'LICENSEE\\nNAME',\n",
      "   'AD-\\nDRESS',\n",
      "   'CITY',\n",
      "   'ST',\n",
      "   'ZIP',\n",
      "   'PHONE\\nNUMBER',\n",
      "   'EX-\\nPIRES'],\n",
      "  ['...', '...', '...', '...', '...', '...', '...', '...', '...', '...']]]\n",
      "***** 28 *****\n",
      "[[['...', '...', '...', '...', '...', '...', '...', '...', '...', '...'],\n",
      "  ['LI-\\nCENSE', '', '', '', 'PREMISE', '', '', '', '', ''],\n",
      "  ['NUM-\\nBER',\n",
      "   'TYPE',\n",
      "   'DBA\\nNAME',\n",
      "   'LICENSEE\\nNAME',\n",
      "   'AD-\\nDRESS',\n",
      "   'CITY',\n",
      "   'ST',\n",
      "   'ZIP',\n",
      "   'PHONE NUM-\\nBER',\n",
      "   'EX-\\nPIRES'],\n",
      "  ['...', '...', '...', '...', '...', '...', '...', '...', '...', '...']],\n",
      " [['...', '...', '...', '...', '...', '...', '...', '...', '...', '...', '...'],\n",
      "  ['Kar-\\nnataka',\n",
      "   '22.44',\n",
      "   '19.59',\n",
      "   '•',\n",
      "   '•',\n",
      "   '2.86',\n",
      "   '1.22',\n",
      "   '•',\n",
      "   '0.89',\n",
      "   '•',\n",
      "   '0.69'],\n",
      "  ['Kerala',\n",
      "   '29.03',\n",
      "   '24.91<s>',\n",
      "   '2</s>\\n•',\n",
      "   '•',\n",
      "   '4.11',\n",
      "   '1.77',\n",
      "   '•',\n",
      "   '0.48',\n",
      "   '•',\n",
      "   '1.45'],\n",
      "  ['Mad-\\nhya\\nPradesh',\n",
      "   '27.13',\n",
      "   '23.57',\n",
      "   '•',\n",
      "   '•',\n",
      "   '3.56',\n",
      "   '0.38',\n",
      "   '•',\n",
      "   '1.86',\n",
      "   '•',\n",
      "   '1.28'],\n",
      "  ['...',\n",
      "   '...',\n",
      "   '...',\n",
      "   '...',\n",
      "   '...',\n",
      "   '...',\n",
      "   '...',\n",
      "   '...',\n",
      "   '...',\n",
      "   '...',\n",
      "   '...']]]\n",
      "***** 29 *****\n",
      "[[['...', '...', '...', '...', '...', '...', '...', '...', '...', '...'],\n",
      "  ['Forcible rape',\n",
      "   '17.5',\n",
      "   '2.6',\n",
      "   '14.9',\n",
      "   '17.2',\n",
      "   '2.5',\n",
      "   '14.7',\n",
      "   '–',\n",
      "   '–',\n",
      "   '–'],\n",
      "  ['Robbery',\n",
      "   '102.1',\n",
      "   '25.5',\n",
      "   '76.6',\n",
      "   '90.0',\n",
      "   '22.9',\n",
      "   '67.1',\n",
      "   '12.1',\n",
      "   '2.5',\n",
      "   '9.5'],\n",
      "  ['Aggravated assault',\n",
      "   '338.4',\n",
      "   '40.1',\n",
      "   '298.3',\n",
      "   '264.0',\n",
      "   '30.2',\n",
      "   '233.8',\n",
      "   '74.4',\n",
      "   '9.9',\n",
      "   '64.5'],\n",
      "  ['Property crime',\n",
      "   '1,396 .4',\n",
      "   '338 .7',\n",
      "   '1,057 .7',\n",
      "   '875 .9',\n",
      "   '210 .8',\n",
      "   '665 .1',\n",
      "   '608 .2',\n",
      "   '127 .9',\n",
      "   '392 .6'],\n",
      "  ['Burglary',\n",
      "   '240.9',\n",
      "   '60.3',\n",
      "   '180.6',\n",
      "   '205.0',\n",
      "   '53.4',\n",
      "   '151.7',\n",
      "   '35.9',\n",
      "   '6.9',\n",
      "   '29.0'],\n",
      "  ['...', '...', '...', '...', '...', '...', '...', '...', '...', '...']]]\n",
      "***** 30 *****\n",
      "***** 31 *****\n",
      "[[['Clave', '', 'Clave', '', '', 'Clave', ''],\n",
      "  ['',\n",
      "   'Nombre Enti-\\ndad',\n",
      "   '',\n",
      "   '',\n",
      "   'Nombre Munici-\\npio',\n",
      "   '',\n",
      "   'Nombre Locali-\\ndad'],\n",
      "  ['Enti-\\ndad', '', 'Munici-\\npio', '', '', 'Locali-\\ndad', ''],\n",
      "  ['01',\n",
      "   'Aguascalientes',\n",
      "   '001',\n",
      "   'Aguas-\\ncalientes',\n",
      "   '',\n",
      "   '0094',\n",
      "   'Granja Adelita'],\n",
      "  ['01', 'Aguascalientes', '001', 'Aguas-\\ncalientes', '', '0096', 'Agua Azul'],\n",
      "  ['01',\n",
      "   'Aguascalientes',\n",
      "   '001',\n",
      "   'Aguas-\\ncalientes',\n",
      "   '',\n",
      "   '0100',\n",
      "   'Rancho Alegre']],\n",
      " [['Clave',\n",
      "   'Nombre Enti-\\ndad',\n",
      "   'Clave',\n",
      "   '',\n",
      "   'Nombre Munici-\\npio',\n",
      "   'Clave',\n",
      "   'Nombre Locali-\\ndad'],\n",
      "  ['Enti-\\ndad', '', 'Munici-\\npio', '', '', 'Locali-\\ndad', ''],\n",
      "  ['01',\n",
      "   'Aguascalientes',\n",
      "   '001',\n",
      "   'Aguas-\\ncalientes',\n",
      "   '',\n",
      "   '0094',\n",
      "   'Granja Adelita'],\n",
      "  ['01', 'Aguascalientes', '001', 'Aguas-\\ncalientes', '', '0096', 'Agua Azul'],\n",
      "  ['01',\n",
      "   'Aguascalientes',\n",
      "   '001',\n",
      "   'Aguas-\\ncalientes',\n",
      "   '',\n",
      "   '0100',\n",
      "   'Rancho Alegre']]]\n",
      "***** 32 *****\n",
      "***** 33 *****\n",
      "***** 34 *****\n",
      "[[['In\\nv\\nti\\ng\\nti',\n",
      "   '-N\\neso-\\n-\\na-\\nons',\n",
      "   'oA.\\nfHG',\n",
      "   'geP/\\nHrosle',\n",
      "   'rSeCev\\nunpc',\n",
      "   'xa.I/-RP*\\nea\\nti\\nP\\nci\\nsi',\n",
      "   'heylS-s\\n- p\\nves-i\\nreS-\\n-\\non'],\n",
      "  ['A\\nth\\np\\ne\\ntr', 'n2-\\nro-\\nom\\n-\\ny', '40A0\\n..\\n-', 'll\\n.', '', '', ''],\n",
      "  ['C\\ni-\\nc\\nE\\na\\ni-\\nn\\nti', 'lin\\nal\\nx-\\nm-\\na-\\non', '-', '', '', '', ''],\n",
      "  ['H\\nto\\no\\nm\\nb\\nit', 'is-\\nry\\nf\\nor-\\nid-\\ny', '', '', '', '', ''],\n",
      "  ['D\\ns\\nv', 'ie1t\\nur-\\ney', '20A0\\n..', 'll\\n.', '', '', ''],\n",
      "  ['B\\nP\\ns\\n#',\n",
      "   'lo2o\\nres\\nure',\n",
      "   '4d0M0\\n- (\\n1',\n",
      "   'e1n\\n8yr',\n",
      "   '0%9\\ns)',\n",
      "   '5%2',\n",
      "   '0%1'],\n",
      "  ['', '', 'W\\n(\\n1\\ny', 'om\\n8\\nrs)', 'en', '', '1'],\n",
      "  ['F\\nin\\nb\\ng\\nc',\n",
      "   'as2t-\\ng\\nloo\\nlu-\\nose',\n",
      "   '40M0\\n(\\nd1\\ny',\n",
      "   'e5n\\n8\\nrs)',\n",
      "   '%9',\n",
      "   '5%2',\n",
      "   '0%1'],\n",
      "  ['', '', 'W\\n(\\n1\\ny', 'om\\n8\\nrs)', 'en', '', '1'],\n",
      "  ['K\\ne\\n&\\nti\\no\\nH\\n&',\n",
      "   'n2o\\ndge\\nPr\\nces\\nn\\nTN\\nD',\n",
      "   'w40lM-0\\n(\\nac1-\\ny\\nM',\n",
      "   'en\\n8\\nrs)',\n",
      "   '',\n",
      "   '•',\n",
      "   '1\\n•'],\n",
      "  ['', '2', '40W0\\n(\\n1', 'om\\n8', 'en', '•', '1\\n•'],\n",
      "  ['', '', 'y', 'rs)', '', '', '']]]\n",
      "***** 35 *****\n",
      "***** 36 *****\n",
      "[[['Investiga-\\ntions',\n",
      "   'No. ofHHs',\n",
      "   'Age/Sex/Physio\\nGroup',\n",
      "   'loPgriecvaal-lence',\n",
      "   'C.I*',\n",
      "   'RelativePre-\\ncision',\n",
      "   'Sample\\nsizeper State'],\n",
      "  ['Anthropome-\\ntry', '', '', '', '', '', ''],\n",
      "  ['Clinical\\nExamination', '2400', '', 'All ...', '', '', ''],\n",
      "  ['History of\\nmorbidity', '', '', '', '', '', ''],\n",
      "  ['Diet survey', '1200', '', 'All ...', '', '', ''],\n",
      "  ['', '', 'Men ( 18yrs)', '', '', '', '1728'],\n",
      "  ['Blood Pres-\\nsure #',\n",
      "   '2400',\n",
      "   'Women ( 18\\nyrs)',\n",
      "   '10%',\n",
      "   '95%',\n",
      "   '20%',\n",
      "   '1728'],\n",
      "  ['', '', 'Men ( 18 yrs)', '', '', '', '1825'],\n",
      "  ['Fasting blood\\nglucose',\n",
      "   '2400',\n",
      "   'Women ( 18\\nyrs)',\n",
      "   '5%',\n",
      "   '95%',\n",
      "   '20%',\n",
      "   '1825'],\n",
      "  ['Knowledge\\n&Practices\\non HTN &',\n",
      "   '2400',\n",
      "   'Men ( 18 yrs)',\n",
      "   '•',\n",
      "   '•',\n",
      "   '•',\n",
      "   '1728'],\n",
      "  ['DM', '2400', 'Women ( 18\\nyrs)', '•', '•', '•', '1728']]]\n",
      "***** 37 *****\n",
      "[[['Investiga-\\ntions',\n",
      "   'No. ofHHs',\n",
      "   'Age/Sex/Physio\\nGroup',\n",
      "   'loPgriecvaal-lence',\n",
      "   'C.I*',\n",
      "   'RelativePre-\\ncision',\n",
      "   'Sample\\nsizeper State'],\n",
      "  ['Anthropome-\\ntry', '', '', '', '', '', ''],\n",
      "  ['Clinical\\nExamination', '', '', '', '', '', ''],\n",
      "  ['History of\\nmorbidity', '2400', '', '', '', '', 'All ...'],\n",
      "  ['Diet survey', '1200', '', '', '', '', 'All ...'],\n",
      "  ['', '', 'Men ( 18yrs)', '', '', '', '1728'],\n",
      "  ['Blood Pres-\\nsure #',\n",
      "   '2400',\n",
      "   'Women ( 18\\nyrs)',\n",
      "   '10%',\n",
      "   '95%',\n",
      "   '20%',\n",
      "   '1728'],\n",
      "  ['', '', 'Men ( 18 yrs)', '', '', '', '1825'],\n",
      "  ['Fasting blood\\nglucose',\n",
      "   '2400',\n",
      "   'Women ( 18\\nyrs)',\n",
      "   '5%',\n",
      "   '95%',\n",
      "   '20%',\n",
      "   '1825'],\n",
      "  ['', '2400', 'Men ( 18 yrs)', '•', '•', '•', '1728'],\n",
      "  ['Knowledge\\n&Practices\\non HTN\\n&DM',\n",
      "   '2400',\n",
      "   'Women ( 18\\nyrs)',\n",
      "   '•',\n",
      "   '•',\n",
      "   '•',\n",
      "   '1728']]]\n",
      "***** 38 *****\n",
      "[[['Sl. No.',\n",
      "   'Name of\\nState/UT',\n",
      "   'Name of\\nDistrict',\n",
      "   'Disease/\\nIllness',\n",
      "   'No. of\\nCases',\n",
      "   'No. of\\nDeaths',\n",
      "   'Date\\nof start\\nof out-\\nbreak',\n",
      "   'Date of\\nreport-\\ning',\n",
      "   'Current\\nStatus',\n",
      "   '...'],\n",
      "  ['1',\n",
      "   'Kerala',\n",
      "   'Kollam',\n",
      "   'i.\\nFoo\\nPoi-\\nson-\\ning',\n",
      "   '19\\nd',\n",
      "   '0',\n",
      "   '31/12/13',\n",
      "   '03/01/14',\n",
      "   'Under\\ncontrol',\n",
      "   '...'],\n",
      "  ['2',\n",
      "   'Maha-\\nrashtra',\n",
      "   'Beed',\n",
      "   'i.\\nDen\\n&\\nChi\\ngun\\ni',\n",
      "   '11\\ngue\\nkun-\\nya',\n",
      "   '0',\n",
      "   '03/01/14',\n",
      "   '04/01/14',\n",
      "   'Under\\ncontrol',\n",
      "   '...'],\n",
      "  ['3',\n",
      "   'Odisha',\n",
      "   'Kala-\\nhandi',\n",
      "   'iii.\\nFoo\\nPoi-\\nson-\\ning',\n",
      "   '42\\nd',\n",
      "   '0',\n",
      "   '02/01/14',\n",
      "   '03/01/14',\n",
      "   'Under\\ncontrol',\n",
      "   '...'],\n",
      "  ['4',\n",
      "   'West\\nBengal',\n",
      "   'West\\nMe-\\ndinipur',\n",
      "   'iv.\\nAcu\\nDi-\\nar-\\nrhoe\\nDis-\\nease',\n",
      "   '145\\nte\\nal',\n",
      "   '0',\n",
      "   '04/01/14',\n",
      "   '05/01/14',\n",
      "   'Under\\ncontrol',\n",
      "   '...'],\n",
      "  ['',\n",
      "   '',\n",
      "   'Birb-\\nhum',\n",
      "   'v.\\nFoo\\nPoi-\\nson-\\ning',\n",
      "   '199\\nd',\n",
      "   '0',\n",
      "   '31/12/13',\n",
      "   '31/12/13',\n",
      "   'Under\\ncontrol',\n",
      "   '...'],\n",
      "  ['',\n",
      "   '',\n",
      "   'Howrah',\n",
      "   'vi.\\nVi-\\nral\\nHep\\nati-\\ntis\\nA\\n&E',\n",
      "   '85\\n-',\n",
      "   '0',\n",
      "   '26/12/13',\n",
      "   '27/12/13',\n",
      "   'Under\\nsurveil-\\nlance',\n",
      "   '...']]]\n",
      "***** 39 *****\n",
      "***** 40 *****\n",
      "[[['Sl. No.',\n",
      "   'Name of\\nState/UT',\n",
      "   'Name of\\nDistrict',\n",
      "   'Disease/\\nIllness',\n",
      "   'No. of\\nCases',\n",
      "   'No. of\\nDeaths',\n",
      "   'Date\\nof start\\nof out-\\nbreak',\n",
      "   'Date of\\nreport-\\ning',\n",
      "   'Current\\nStatus',\n",
      "   '...'],\n",
      "  ['1',\n",
      "   'Kerala',\n",
      "   'Kollam',\n",
      "   'i.\\nFoo\\nPoi-\\nson-\\ning',\n",
      "   '19\\nd',\n",
      "   '0',\n",
      "   '31/12/13',\n",
      "   '03/01/14',\n",
      "   'Under\\ncontrol',\n",
      "   '...'],\n",
      "  ['2',\n",
      "   'Maha-\\nrashtra',\n",
      "   'Beed',\n",
      "   'i.\\nDen\\n&\\nChi\\ngun\\ni',\n",
      "   '11\\ngue\\nkun-\\nya',\n",
      "   '0',\n",
      "   '03/01/14',\n",
      "   '04/01/14',\n",
      "   'Under\\ncontrol',\n",
      "   '...'],\n",
      "  ['3',\n",
      "   'Odisha',\n",
      "   'Kala-\\nhandi',\n",
      "   'iii.\\nFoo\\nPoi-\\nson-\\ning',\n",
      "   '42\\nd',\n",
      "   '0',\n",
      "   '02/01/14',\n",
      "   '03/01/14',\n",
      "   'Under\\ncontrol',\n",
      "   '...'],\n",
      "  ['4',\n",
      "   'West\\nBengal',\n",
      "   'West\\nMe-\\ndinipur',\n",
      "   'iv.\\nAcu\\nDi-\\nar-\\nrhoe\\nDis-\\nease',\n",
      "   '145\\nte\\nal',\n",
      "   '0',\n",
      "   '04/01/14',\n",
      "   '05/01/14',\n",
      "   'Under\\ncontrol',\n",
      "   '...'],\n",
      "  ['4',\n",
      "   'West\\nBengal',\n",
      "   'Birb-\\nhum',\n",
      "   'v.\\nFoo\\nPoi-\\nson-\\ning',\n",
      "   '199\\nd',\n",
      "   '0',\n",
      "   '31/12/13',\n",
      "   '31/12/13',\n",
      "   'Under\\ncontrol',\n",
      "   '...'],\n",
      "  ['4',\n",
      "   'West\\nBengal',\n",
      "   'Howrah',\n",
      "   'vi.\\nVi-\\nral\\nHep\\nati-\\ntis\\nA\\n&E',\n",
      "   '85\\n-',\n",
      "   '0',\n",
      "   '26/12/13',\n",
      "   '27/12/13',\n",
      "   'Under\\nsurveil-\\nlance',\n",
      "   '...']]]\n",
      "***** 41 *****\n",
      "***** 42 *****\n",
      "***** 43 *****\n"
     ]
    },
    {
     "name": "stdout",
     "output_type": "stream",
     "text": [
      "***** 44 *****\n",
      "***** 45 *****\n",
      "***** 46 *****\n",
      "***** 47 *****\n",
      "***** 48 *****\n",
      "***** 49 *****\n",
      "***** 50 *****\n",
      "***** 51 *****\n",
      "***** 52 *****\n",
      "***** 53 *****\n",
      "***** 54 *****\n",
      "***** 55 *****\n",
      "***** 56 *****\n",
      "***** 57 *****\n",
      "***** 58 *****\n"
     ]
    }
   ],
   "source": [
    "#read the document\n",
    "doc = fitz.open(path)\n",
    "print(len(doc))\n",
    "#find the tables\n",
    "for i in range(len(doc)):\n",
    "    print('*' * 5, i, '*' * 5)\n",
    "    \n",
    "    #get each page of the document\n",
    "    page = doc[i]\n",
    "    \n",
    "    #locate and extract the table\n",
    "    table = page.find_tables()\n",
    "    \n",
    "    #display the number of tables found inside the page\n",
    "    #print(f\"{len(table.tables)} found in {page}\")\n",
    "    \n",
    "    #if there are at least one table found\n",
    "    if table.tables:\n",
    "        pprint([table[i].extract() for i in range(len(table.tables))])"
   ]
  },
  {
   "cell_type": "code",
   "execution_count": null,
   "id": "82b550f2",
   "metadata": {},
   "outputs": [],
   "source": []
  }
 ],
 "metadata": {
  "kernelspec": {
   "display_name": "Python 3 (ipykernel)",
   "language": "python",
   "name": "python3"
  },
  "language_info": {
   "codemirror_mode": {
    "name": "ipython",
    "version": 3
   },
   "file_extension": ".py",
   "mimetype": "text/x-python",
   "name": "python",
   "nbconvert_exporter": "python",
   "pygments_lexer": "ipython3",
   "version": "3.8.18"
  }
 },
 "nbformat": 4,
 "nbformat_minor": 5
}
